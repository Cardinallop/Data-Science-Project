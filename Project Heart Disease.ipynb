{
 "cells": [
  {
   "cell_type": "code",
   "execution_count": 1,
   "metadata": {},
   "outputs": [],
   "source": [
    "import os\n",
    "import numpy as np\n",
    "import tarfile\n",
    "from six.moves import urllib\n",
    "\n",
    "DOWNLOAD_ROOT = \"https://raw.githubusercontent.com/Cardinallop/ML-project-2/master/\"\n",
    "HEART_PATH = os.path.join(\"datasets\", \"HEART\")\n",
    "HEART_URL = DOWNLOAD_ROOT + \"heart.csv\"\n",
    "\n",
    "\n",
    "#this code below automatically downloads the publicly available data from my github\n",
    "\n",
    "\n",
    "def fetch_data(heart_url=HEART_URL, heart_path=HEART_PATH):\n",
    "    if not os.path.isdir(heart_path):\n",
    "        os.makedirs(heart_path)\n",
    "    tgz_path = os.path.join(heart_path, \"heart.csv\")\n",
    "    urllib.request.urlretrieve(heart_url, tgz_path)\n"
   ]
  },
  {
   "cell_type": "code",
   "execution_count": 13,
   "metadata": {},
   "outputs": [],
   "source": [
    "import pandas as pd\n",
    "import matplotlib.pyplot as plt\n",
    "import statsmodels.formula.api as smf\n",
    "import seaborn as sns\n",
    "from sklearn.model_selection import train_test_split\n",
    "from sklearn import datasets, linear_model\n",
    "from sklearn.model_selection import KFold\n",
    "from sklearn import tree\n",
    "from sklearn.tree import export_graphviz\n",
    "import sklearn.metrics as met\n",
    "from sklearn.metrics import confusion_matrix\n",
    "%matplotlib inline\n",
    "plt.show()"
   ]
  },
  {
   "cell_type": "markdown",
   "metadata": {},
   "source": [
    "In this project I will try to find a proper model to predict the probability of a heart disease given input factors and I will try to reach the model's maximum predicting capacity by fine-tuning it with a portion of a data. The dataset is available at: https://archive.ics.uci.edu/ml/datasets/Heart+Disease¶"
   ]
  },
  {
   "cell_type": "code",
   "execution_count": 2,
   "metadata": {},
   "outputs": [],
   "source": [
    "fetch_data()"
   ]
  },
  {
   "cell_type": "code",
   "execution_count": 3,
   "metadata": {},
   "outputs": [],
   "source": [
    "import pandas as pd\n",
    "\n",
    "def load_data(heart_path=HEART_PATH):\n",
    "    csv_path = os.path.join(heart_path, \"heart.csv\")\n",
    "    return pd.read_csv(csv_path)"
   ]
  },
  {
   "cell_type": "code",
   "execution_count": 4,
   "metadata": {},
   "outputs": [
    {
     "data": {
      "text/html": [
       "<div>\n",
       "<style scoped>\n",
       "    .dataframe tbody tr th:only-of-type {\n",
       "        vertical-align: middle;\n",
       "    }\n",
       "\n",
       "    .dataframe tbody tr th {\n",
       "        vertical-align: top;\n",
       "    }\n",
       "\n",
       "    .dataframe thead th {\n",
       "        text-align: right;\n",
       "    }\n",
       "</style>\n",
       "<table border=\"1\" class=\"dataframe\">\n",
       "  <thead>\n",
       "    <tr style=\"text-align: right;\">\n",
       "      <th></th>\n",
       "      <th>age</th>\n",
       "      <th>sex</th>\n",
       "      <th>cp</th>\n",
       "      <th>trestbps</th>\n",
       "      <th>chol</th>\n",
       "      <th>fbs</th>\n",
       "      <th>restecg</th>\n",
       "      <th>thalach</th>\n",
       "      <th>exang</th>\n",
       "      <th>oldpeak</th>\n",
       "      <th>slope</th>\n",
       "      <th>ca</th>\n",
       "      <th>thal</th>\n",
       "      <th>target</th>\n",
       "    </tr>\n",
       "  </thead>\n",
       "  <tbody>\n",
       "    <tr>\n",
       "      <td>0</td>\n",
       "      <td>63</td>\n",
       "      <td>1</td>\n",
       "      <td>3</td>\n",
       "      <td>145</td>\n",
       "      <td>233</td>\n",
       "      <td>1</td>\n",
       "      <td>0</td>\n",
       "      <td>150</td>\n",
       "      <td>0</td>\n",
       "      <td>2.3</td>\n",
       "      <td>0</td>\n",
       "      <td>0</td>\n",
       "      <td>1</td>\n",
       "      <td>1</td>\n",
       "    </tr>\n",
       "    <tr>\n",
       "      <td>1</td>\n",
       "      <td>37</td>\n",
       "      <td>1</td>\n",
       "      <td>2</td>\n",
       "      <td>130</td>\n",
       "      <td>250</td>\n",
       "      <td>0</td>\n",
       "      <td>1</td>\n",
       "      <td>187</td>\n",
       "      <td>0</td>\n",
       "      <td>3.5</td>\n",
       "      <td>0</td>\n",
       "      <td>0</td>\n",
       "      <td>2</td>\n",
       "      <td>1</td>\n",
       "    </tr>\n",
       "    <tr>\n",
       "      <td>2</td>\n",
       "      <td>41</td>\n",
       "      <td>0</td>\n",
       "      <td>1</td>\n",
       "      <td>130</td>\n",
       "      <td>204</td>\n",
       "      <td>0</td>\n",
       "      <td>0</td>\n",
       "      <td>172</td>\n",
       "      <td>0</td>\n",
       "      <td>1.4</td>\n",
       "      <td>2</td>\n",
       "      <td>0</td>\n",
       "      <td>2</td>\n",
       "      <td>1</td>\n",
       "    </tr>\n",
       "    <tr>\n",
       "      <td>3</td>\n",
       "      <td>56</td>\n",
       "      <td>1</td>\n",
       "      <td>1</td>\n",
       "      <td>120</td>\n",
       "      <td>236</td>\n",
       "      <td>0</td>\n",
       "      <td>1</td>\n",
       "      <td>178</td>\n",
       "      <td>0</td>\n",
       "      <td>0.8</td>\n",
       "      <td>2</td>\n",
       "      <td>0</td>\n",
       "      <td>2</td>\n",
       "      <td>1</td>\n",
       "    </tr>\n",
       "    <tr>\n",
       "      <td>4</td>\n",
       "      <td>57</td>\n",
       "      <td>0</td>\n",
       "      <td>0</td>\n",
       "      <td>120</td>\n",
       "      <td>354</td>\n",
       "      <td>0</td>\n",
       "      <td>1</td>\n",
       "      <td>163</td>\n",
       "      <td>1</td>\n",
       "      <td>0.6</td>\n",
       "      <td>2</td>\n",
       "      <td>0</td>\n",
       "      <td>2</td>\n",
       "      <td>1</td>\n",
       "    </tr>\n",
       "  </tbody>\n",
       "</table>\n",
       "</div>"
      ],
      "text/plain": [
       "   age  sex  cp  trestbps  chol  fbs  restecg  thalach  exang  oldpeak  slope  \\\n",
       "0   63    1   3       145   233    1        0      150      0      2.3      0   \n",
       "1   37    1   2       130   250    0        1      187      0      3.5      0   \n",
       "2   41    0   1       130   204    0        0      172      0      1.4      2   \n",
       "3   56    1   1       120   236    0        1      178      0      0.8      2   \n",
       "4   57    0   0       120   354    0        1      163      1      0.6      2   \n",
       "\n",
       "   ca  thal  target  \n",
       "0   0     1       1  \n",
       "1   0     2       1  \n",
       "2   0     2       1  \n",
       "3   0     2       1  \n",
       "4   0     2       1  "
      ]
     },
     "execution_count": 4,
     "metadata": {},
     "output_type": "execute_result"
    }
   ],
   "source": [
    "data = load_data()\n",
    "data.head()"
   ]
  },
  {
   "cell_type": "markdown",
   "metadata": {},
   "source": [
    "As you can see, some factors are categorical and some are linear.\n",
    "\n",
    "Before I go any further I will define the input values and describe what they are:\n",
    "\n",
    "1- age is just an age of a patient\n",
    "\n",
    "2- sex is a gender, and I have to turn it into Ordinally encoded values, such as 1 for maale and 0 for female\n",
    "\n",
    "3- cp is a chest-pain. Its encoded as 4 types of it: 1-typical angina, 2- nontypical angina, 3- nonanginal pain, 4- asymptotic. Here I have to encode them into OneHot encoded values\n",
    "\n",
    "4- trestbps is a resting blood pressure\n",
    "\n",
    "5- chol is a level of cholesterol\n",
    "\n",
    "6- fbs is a fasting blood sugar, that is 1 if its higher than 120 or 0 otherwise. Again we have to change its code.\n",
    "\n",
    "7- restecg is a resting electrocardiographic results encoded as 0-normal, 1-having abnormality, 2-having a hypertrophy\n",
    "\n",
    "8- thalach is a maximum heart rate achieved\n",
    "\n",
    "9- exang is a exercise induced angina (1 = yes; 0 = no). This also needs to be encoded as ordinal encoder\n",
    "\n",
    "10- oldpeak is a ST depression induced by exercise relative to rest\n",
    "\n",
    "11- slope is a the slope of the peak exercise ST segment\n",
    "\n",
    "12- ca is a number of major vessels (0-3) colored by flourosopy\n",
    "\n",
    "13- thal is a heart defect 3 = normal; 6 = fixed defect; 7 = reversable defect"
   ]
  },
  {
   "cell_type": "code",
   "execution_count": 5,
   "metadata": {},
   "outputs": [
    {
     "name": "stdout",
     "output_type": "stream",
     "text": [
      "<class 'pandas.core.frame.DataFrame'>\n",
      "RangeIndex: 303 entries, 0 to 302\n",
      "Data columns (total 14 columns):\n",
      "age         303 non-null int64\n",
      "sex         303 non-null int64\n",
      "cp          303 non-null int64\n",
      "trestbps    303 non-null int64\n",
      "chol        303 non-null int64\n",
      "fbs         303 non-null int64\n",
      "restecg     303 non-null int64\n",
      "thalach     303 non-null int64\n",
      "exang       303 non-null int64\n",
      "oldpeak     303 non-null float64\n",
      "slope       303 non-null int64\n",
      "ca          303 non-null int64\n",
      "thal        303 non-null int64\n",
      "target      303 non-null int64\n",
      "dtypes: float64(1), int64(13)\n",
      "memory usage: 33.3 KB\n"
     ]
    }
   ],
   "source": [
    "data.info()"
   ]
  },
  {
   "cell_type": "markdown",
   "metadata": {},
   "source": [
    "### Notice that this is a clean, perfect data without any missing values"
   ]
  },
  {
   "cell_type": "code",
   "execution_count": 6,
   "metadata": {},
   "outputs": [
    {
     "data": {
      "text/html": [
       "<div>\n",
       "<style scoped>\n",
       "    .dataframe tbody tr th:only-of-type {\n",
       "        vertical-align: middle;\n",
       "    }\n",
       "\n",
       "    .dataframe tbody tr th {\n",
       "        vertical-align: top;\n",
       "    }\n",
       "\n",
       "    .dataframe thead th {\n",
       "        text-align: right;\n",
       "    }\n",
       "</style>\n",
       "<table border=\"1\" class=\"dataframe\">\n",
       "  <thead>\n",
       "    <tr style=\"text-align: right;\">\n",
       "      <th></th>\n",
       "      <th>age</th>\n",
       "      <th>sex</th>\n",
       "      <th>cp</th>\n",
       "      <th>trestbps</th>\n",
       "      <th>chol</th>\n",
       "      <th>fbs</th>\n",
       "      <th>restecg</th>\n",
       "      <th>thalach</th>\n",
       "      <th>exang</th>\n",
       "      <th>oldpeak</th>\n",
       "      <th>slope</th>\n",
       "      <th>ca</th>\n",
       "      <th>thal</th>\n",
       "      <th>target</th>\n",
       "    </tr>\n",
       "  </thead>\n",
       "  <tbody>\n",
       "    <tr>\n",
       "      <td>count</td>\n",
       "      <td>303.000000</td>\n",
       "      <td>303.000000</td>\n",
       "      <td>303.000000</td>\n",
       "      <td>303.000000</td>\n",
       "      <td>303.000000</td>\n",
       "      <td>303.000000</td>\n",
       "      <td>303.000000</td>\n",
       "      <td>303.000000</td>\n",
       "      <td>303.000000</td>\n",
       "      <td>303.000000</td>\n",
       "      <td>303.000000</td>\n",
       "      <td>303.000000</td>\n",
       "      <td>303.000000</td>\n",
       "      <td>303.000000</td>\n",
       "    </tr>\n",
       "    <tr>\n",
       "      <td>mean</td>\n",
       "      <td>54.366337</td>\n",
       "      <td>0.683168</td>\n",
       "      <td>0.966997</td>\n",
       "      <td>131.623762</td>\n",
       "      <td>246.264026</td>\n",
       "      <td>0.148515</td>\n",
       "      <td>0.528053</td>\n",
       "      <td>149.646865</td>\n",
       "      <td>0.326733</td>\n",
       "      <td>1.039604</td>\n",
       "      <td>1.399340</td>\n",
       "      <td>0.729373</td>\n",
       "      <td>2.313531</td>\n",
       "      <td>0.544554</td>\n",
       "    </tr>\n",
       "    <tr>\n",
       "      <td>std</td>\n",
       "      <td>9.082101</td>\n",
       "      <td>0.466011</td>\n",
       "      <td>1.032052</td>\n",
       "      <td>17.538143</td>\n",
       "      <td>51.830751</td>\n",
       "      <td>0.356198</td>\n",
       "      <td>0.525860</td>\n",
       "      <td>22.905161</td>\n",
       "      <td>0.469794</td>\n",
       "      <td>1.161075</td>\n",
       "      <td>0.616226</td>\n",
       "      <td>1.022606</td>\n",
       "      <td>0.612277</td>\n",
       "      <td>0.498835</td>\n",
       "    </tr>\n",
       "    <tr>\n",
       "      <td>min</td>\n",
       "      <td>29.000000</td>\n",
       "      <td>0.000000</td>\n",
       "      <td>0.000000</td>\n",
       "      <td>94.000000</td>\n",
       "      <td>126.000000</td>\n",
       "      <td>0.000000</td>\n",
       "      <td>0.000000</td>\n",
       "      <td>71.000000</td>\n",
       "      <td>0.000000</td>\n",
       "      <td>0.000000</td>\n",
       "      <td>0.000000</td>\n",
       "      <td>0.000000</td>\n",
       "      <td>0.000000</td>\n",
       "      <td>0.000000</td>\n",
       "    </tr>\n",
       "    <tr>\n",
       "      <td>25%</td>\n",
       "      <td>47.500000</td>\n",
       "      <td>0.000000</td>\n",
       "      <td>0.000000</td>\n",
       "      <td>120.000000</td>\n",
       "      <td>211.000000</td>\n",
       "      <td>0.000000</td>\n",
       "      <td>0.000000</td>\n",
       "      <td>133.500000</td>\n",
       "      <td>0.000000</td>\n",
       "      <td>0.000000</td>\n",
       "      <td>1.000000</td>\n",
       "      <td>0.000000</td>\n",
       "      <td>2.000000</td>\n",
       "      <td>0.000000</td>\n",
       "    </tr>\n",
       "    <tr>\n",
       "      <td>50%</td>\n",
       "      <td>55.000000</td>\n",
       "      <td>1.000000</td>\n",
       "      <td>1.000000</td>\n",
       "      <td>130.000000</td>\n",
       "      <td>240.000000</td>\n",
       "      <td>0.000000</td>\n",
       "      <td>1.000000</td>\n",
       "      <td>153.000000</td>\n",
       "      <td>0.000000</td>\n",
       "      <td>0.800000</td>\n",
       "      <td>1.000000</td>\n",
       "      <td>0.000000</td>\n",
       "      <td>2.000000</td>\n",
       "      <td>1.000000</td>\n",
       "    </tr>\n",
       "    <tr>\n",
       "      <td>75%</td>\n",
       "      <td>61.000000</td>\n",
       "      <td>1.000000</td>\n",
       "      <td>2.000000</td>\n",
       "      <td>140.000000</td>\n",
       "      <td>274.500000</td>\n",
       "      <td>0.000000</td>\n",
       "      <td>1.000000</td>\n",
       "      <td>166.000000</td>\n",
       "      <td>1.000000</td>\n",
       "      <td>1.600000</td>\n",
       "      <td>2.000000</td>\n",
       "      <td>1.000000</td>\n",
       "      <td>3.000000</td>\n",
       "      <td>1.000000</td>\n",
       "    </tr>\n",
       "    <tr>\n",
       "      <td>max</td>\n",
       "      <td>77.000000</td>\n",
       "      <td>1.000000</td>\n",
       "      <td>3.000000</td>\n",
       "      <td>200.000000</td>\n",
       "      <td>564.000000</td>\n",
       "      <td>1.000000</td>\n",
       "      <td>2.000000</td>\n",
       "      <td>202.000000</td>\n",
       "      <td>1.000000</td>\n",
       "      <td>6.200000</td>\n",
       "      <td>2.000000</td>\n",
       "      <td>4.000000</td>\n",
       "      <td>3.000000</td>\n",
       "      <td>1.000000</td>\n",
       "    </tr>\n",
       "  </tbody>\n",
       "</table>\n",
       "</div>"
      ],
      "text/plain": [
       "              age         sex          cp    trestbps        chol         fbs  \\\n",
       "count  303.000000  303.000000  303.000000  303.000000  303.000000  303.000000   \n",
       "mean    54.366337    0.683168    0.966997  131.623762  246.264026    0.148515   \n",
       "std      9.082101    0.466011    1.032052   17.538143   51.830751    0.356198   \n",
       "min     29.000000    0.000000    0.000000   94.000000  126.000000    0.000000   \n",
       "25%     47.500000    0.000000    0.000000  120.000000  211.000000    0.000000   \n",
       "50%     55.000000    1.000000    1.000000  130.000000  240.000000    0.000000   \n",
       "75%     61.000000    1.000000    2.000000  140.000000  274.500000    0.000000   \n",
       "max     77.000000    1.000000    3.000000  200.000000  564.000000    1.000000   \n",
       "\n",
       "          restecg     thalach       exang     oldpeak       slope          ca  \\\n",
       "count  303.000000  303.000000  303.000000  303.000000  303.000000  303.000000   \n",
       "mean     0.528053  149.646865    0.326733    1.039604    1.399340    0.729373   \n",
       "std      0.525860   22.905161    0.469794    1.161075    0.616226    1.022606   \n",
       "min      0.000000   71.000000    0.000000    0.000000    0.000000    0.000000   \n",
       "25%      0.000000  133.500000    0.000000    0.000000    1.000000    0.000000   \n",
       "50%      1.000000  153.000000    0.000000    0.800000    1.000000    0.000000   \n",
       "75%      1.000000  166.000000    1.000000    1.600000    2.000000    1.000000   \n",
       "max      2.000000  202.000000    1.000000    6.200000    2.000000    4.000000   \n",
       "\n",
       "             thal      target  \n",
       "count  303.000000  303.000000  \n",
       "mean     2.313531    0.544554  \n",
       "std      0.612277    0.498835  \n",
       "min      0.000000    0.000000  \n",
       "25%      2.000000    0.000000  \n",
       "50%      2.000000    1.000000  \n",
       "75%      3.000000    1.000000  \n",
       "max      3.000000    1.000000  "
      ]
     },
     "execution_count": 6,
     "metadata": {},
     "output_type": "execute_result"
    }
   ],
   "source": [
    "data.describe()"
   ]
  },
  {
   "cell_type": "markdown",
   "metadata": {},
   "source": [
    "you can see from the above graph that a cholesterol has a big effect on heart disease with a mean of 246, much bigger number compared to other values."
   ]
  },
  {
   "cell_type": "code",
   "execution_count": 15,
   "metadata": {},
   "outputs": [
    {
     "data": {
      "image/png": "[encoded data removed]",
      "text/plain": [
       "<Figure size 1440x1080 with 16 Axes>"
      ]
     },
     "metadata": {
      "needs_background": "light"
     },
     "output_type": "display_data"
    }
   ],
   "source": [
    "%matplotlib inline\n",
    "import matplotlib.pyplot as plt \n",
    "data.hist(bins=50, figsize=(20,15))\n",
    "plt.show()"
   ]
  },
  {
   "cell_type": "code",
   "execution_count": 21,
   "metadata": {},
   "outputs": [
    {
     "data": {
      "image/png": "[encoded data removed]",
      "text/plain": [
       "<Figure size 360x360 with 1 Axes>"
      ]
     },
     "metadata": {
      "needs_background": "light"
     },
     "output_type": "display_data"
    }
   ],
   "source": [
    "%matplotlib inline\n",
    "import matplotlib.pyplot as plt \n",
    "data['age'].hist(bins=50, figsize=(5,5))\n",
    "plt.xlabel('age') \n",
    "plt.ylabel('frequency')    \n",
    "plt.show()"
   ]
  },
  {
   "cell_type": "code",
   "execution_count": 22,
   "metadata": {},
   "outputs": [
    {
     "data": {
      "image/png": "[encoded data removed]",
      "text/plain": [
       "<Figure size 360x360 with 1 Axes>"
      ]
     },
     "metadata": {
      "needs_background": "light"
     },
     "output_type": "display_data"
    }
   ],
   "source": [
    "%matplotlib inline\n",
    "import matplotlib.pyplot as plt \n",
    "data['chol'].hist(bins=50, figsize=(5,5))\n",
    "plt.xlabel('cholesterol level') \n",
    "plt.ylabel('rate') \n",
    "plt.show()"
   ]
  },
  {
   "cell_type": "code",
   "execution_count": 23,
   "metadata": {},
   "outputs": [
    {
     "data": {
      "image/png": "[encoded data removed]",
      "text/plain": [
       "<Figure size 360x360 with 1 Axes>"
      ]
     },
     "metadata": {
      "needs_background": "light"
     },
     "output_type": "display_data"
    }
   ],
   "source": [
    "%matplotlib inline\n",
    "import matplotlib.pyplot as plt \n",
    "data['thalach'].hist(bins=50, figsize=(5,5))\n",
    "plt.xlabel('maximum heart rate') \n",
    "plt.ylabel('frequency') \n",
    "plt.show()"
   ]
  },
  {
   "cell_type": "code",
   "execution_count": 124,
   "metadata": {},
   "outputs": [
    {
     "data": {
      "image/png": "[encoded data removed]",
      "text/plain": [
       "<Figure size 360x360 with 1 Axes>"
      ]
     },
     "metadata": {
      "needs_background": "light"
     },
     "output_type": "display_data"
    }
   ],
   "source": [
    "%matplotlib inline\n",
    "import matplotlib.pyplot as plt \n",
    "data['trestbps'].hist(bins=50, figsize=(5,5))\n",
    "plt.xlabel('resting blood pressure') \n",
    "plt.ylabel('frequency') \n",
    "plt.show()"
   ]
  },
  {
   "cell_type": "markdown",
   "metadata": {},
   "source": [
    "### To make analysis on outliers (reminder)"
   ]
  },
  {
   "cell_type": "code",
   "execution_count": 125,
   "metadata": {},
   "outputs": [
    {
     "data": {
      "image/png": "[encoded data removed]",
      "text/plain": [
       "<Figure size 413.25x360 with 1 Axes>"
      ]
     },
     "metadata": {
      "needs_background": "light"
     },
     "output_type": "display_data"
    }
   ],
   "source": [
    "sns.relplot(x='age', y='chol', hue='sex', data=data)\n",
    "plt.show()"
   ]
  },
  {
   "cell_type": "code",
   "execution_count": 26,
   "metadata": {},
   "outputs": [
    {
     "data": {
      "image/png": "[encoded data removed]",
      "text/plain": [
       "<Figure size 413.25x360 with 1 Axes>"
      ]
     },
     "metadata": {
      "needs_background": "light"
     },
     "output_type": "display_data"
    }
   ],
   "source": [
    "sns.relplot(x='age', y='thalach', hue='sex', data=data)\n",
    "plt.show()"
   ]
  },
  {
   "cell_type": "code",
   "execution_count": 27,
   "metadata": {},
   "outputs": [
    {
     "data": {
      "image/png": "[encoded data removed]",
      "text/plain": [
       "<Figure size 413.25x360 with 1 Axes>"
      ]
     },
     "metadata": {
      "needs_background": "light"
     },
     "output_type": "display_data"
    }
   ],
   "source": [
    "sns.relplot(x='age', y='trestbps', hue='sex', data=data)\n",
    "plt.show()"
   ]
  },
  {
   "cell_type": "code",
   "execution_count": 28,
   "metadata": {},
   "outputs": [
    {
     "data": {
      "text/html": [
       "<table class=\"simpletable\">\n",
       "<caption>OLS Regression Results</caption>\n",
       "<tr>\n",
       "  <th>Dep. Variable:</th>         <td>target</td>      <th>  R-squared:         </th> <td>   0.518</td>\n",
       "</tr>\n",
       "<tr>\n",
       "  <th>Model:</th>                   <td>OLS</td>       <th>  Adj. R-squared:    </th> <td>   0.496</td>\n",
       "</tr>\n",
       "<tr>\n",
       "  <th>Method:</th>             <td>Least Squares</td>  <th>  F-statistic:       </th> <td>   23.85</td>\n",
       "</tr>\n",
       "<tr>\n",
       "  <th>Date:</th>             <td>Thu, 12 Dec 2019</td> <th>  Prob (F-statistic):</th> <td>1.49e-38</td>\n",
       "</tr>\n",
       "<tr>\n",
       "  <th>Time:</th>                 <td>22:22:09</td>     <th>  Log-Likelihood:    </th> <td> -108.28</td>\n",
       "</tr>\n",
       "<tr>\n",
       "  <th>No. Observations:</th>      <td>   303</td>      <th>  AIC:               </th> <td>   244.6</td>\n",
       "</tr>\n",
       "<tr>\n",
       "  <th>Df Residuals:</th>          <td>   289</td>      <th>  BIC:               </th> <td>   296.6</td>\n",
       "</tr>\n",
       "<tr>\n",
       "  <th>Df Model:</th>              <td>    13</td>      <th>                     </th>     <td> </td>   \n",
       "</tr>\n",
       "<tr>\n",
       "  <th>Covariance Type:</th>      <td>nonrobust</td>    <th>                     </th>     <td> </td>   \n",
       "</tr>\n",
       "</table>\n",
       "<table class=\"simpletable\">\n",
       "<tr>\n",
       "      <td></td>         <th>coef</th>     <th>std err</th>      <th>t</th>      <th>P>|t|</th>  <th>[0.025</th>    <th>0.975]</th>  \n",
       "</tr>\n",
       "<tr>\n",
       "  <th>Intercept</th> <td>    0.8289</td> <td>    0.293</td> <td>    2.830</td> <td> 0.005</td> <td>    0.252</td> <td>    1.405</td>\n",
       "</tr>\n",
       "<tr>\n",
       "  <th>age</th>       <td>   -0.0008</td> <td>    0.003</td> <td>   -0.304</td> <td> 0.761</td> <td>   -0.006</td> <td>    0.004</td>\n",
       "</tr>\n",
       "<tr>\n",
       "  <th>chol</th>      <td>   -0.0004</td> <td>    0.000</td> <td>   -0.838</td> <td> 0.403</td> <td>   -0.001</td> <td>    0.000</td>\n",
       "</tr>\n",
       "<tr>\n",
       "  <th>sex</th>       <td>   -0.1960</td> <td>    0.047</td> <td>   -4.157</td> <td> 0.000</td> <td>   -0.289</td> <td>   -0.103</td>\n",
       "</tr>\n",
       "<tr>\n",
       "  <th>cp</th>        <td>    0.1127</td> <td>    0.022</td> <td>    5.036</td> <td> 0.000</td> <td>    0.069</td> <td>    0.157</td>\n",
       "</tr>\n",
       "<tr>\n",
       "  <th>trestbps</th>  <td>   -0.0020</td> <td>    0.001</td> <td>   -1.583</td> <td> 0.114</td> <td>   -0.004</td> <td>    0.000</td>\n",
       "</tr>\n",
       "<tr>\n",
       "  <th>fbs</th>       <td>    0.0174</td> <td>    0.060</td> <td>    0.291</td> <td> 0.771</td> <td>   -0.100</td> <td>    0.135</td>\n",
       "</tr>\n",
       "<tr>\n",
       "  <th>restecg</th>   <td>    0.0498</td> <td>    0.040</td> <td>    1.249</td> <td> 0.213</td> <td>   -0.029</td> <td>    0.128</td>\n",
       "</tr>\n",
       "<tr>\n",
       "  <th>thalach</th>   <td>    0.0030</td> <td>    0.001</td> <td>    2.671</td> <td> 0.008</td> <td>    0.001</td> <td>    0.005</td>\n",
       "</tr>\n",
       "<tr>\n",
       "  <th>exang</th>     <td>   -0.1440</td> <td>    0.051</td> <td>   -2.804</td> <td> 0.005</td> <td>   -0.245</td> <td>   -0.043</td>\n",
       "</tr>\n",
       "<tr>\n",
       "  <th>oldpeak</th>   <td>   -0.0588</td> <td>    0.023</td> <td>   -2.564</td> <td> 0.011</td> <td>   -0.104</td> <td>   -0.014</td>\n",
       "</tr>\n",
       "<tr>\n",
       "  <th>slope</th>     <td>    0.0790</td> <td>    0.042</td> <td>    1.863</td> <td> 0.063</td> <td>   -0.004</td> <td>    0.162</td>\n",
       "</tr>\n",
       "<tr>\n",
       "  <th>ca</th>        <td>   -0.1006</td> <td>    0.022</td> <td>   -4.603</td> <td> 0.000</td> <td>   -0.144</td> <td>   -0.058</td>\n",
       "</tr>\n",
       "<tr>\n",
       "  <th>thal</th>      <td>   -0.1190</td> <td>    0.036</td> <td>   -3.339</td> <td> 0.001</td> <td>   -0.189</td> <td>   -0.049</td>\n",
       "</tr>\n",
       "</table>\n",
       "<table class=\"simpletable\">\n",
       "<tr>\n",
       "  <th>Omnibus:</th>       <td> 6.751</td> <th>  Durbin-Watson:     </th> <td>   1.032</td>\n",
       "</tr>\n",
       "<tr>\n",
       "  <th>Prob(Omnibus):</th> <td> 0.034</td> <th>  Jarque-Bera (JB):  </th> <td>   6.958</td>\n",
       "</tr>\n",
       "<tr>\n",
       "  <th>Skew:</th>          <td>-0.361</td> <th>  Prob(JB):          </th> <td>  0.0308</td>\n",
       "</tr>\n",
       "<tr>\n",
       "  <th>Kurtosis:</th>      <td> 2.824</td> <th>  Cond. No.          </th> <td>4.68e+03</td>\n",
       "</tr>\n",
       "</table><br/><br/>Warnings:<br/>[1] Standard Errors assume that the covariance matrix of the errors is correctly specified.<br/>[2] The condition number is large, 4.68e+03. This might indicate that there are<br/>strong multicollinearity or other numerical problems."
      ],
      "text/plain": [
       "<class 'statsmodels.iolib.summary.Summary'>\n",
       "\"\"\"\n",
       "                            OLS Regression Results                            \n",
       "==============================================================================\n",
       "Dep. Variable:                 target   R-squared:                       0.518\n",
       "Model:                            OLS   Adj. R-squared:                  0.496\n",
       "Method:                 Least Squares   F-statistic:                     23.85\n",
       "Date:                Thu, 12 Dec 2019   Prob (F-statistic):           1.49e-38\n",
       "Time:                        22:22:09   Log-Likelihood:                -108.28\n",
       "No. Observations:                 303   AIC:                             244.6\n",
       "Df Residuals:                     289   BIC:                             296.6\n",
       "Df Model:                          13                                         \n",
       "Covariance Type:            nonrobust                                         \n",
       "==============================================================================\n",
       "                 coef    std err          t      P>|t|      [0.025      0.975]\n",
       "------------------------------------------------------------------------------\n",
       "Intercept      0.8289      0.293      2.830      0.005       0.252       1.405\n",
       "age           -0.0008      0.003     -0.304      0.761      -0.006       0.004\n",
       "chol          -0.0004      0.000     -0.838      0.403      -0.001       0.000\n",
       "sex           -0.1960      0.047     -4.157      0.000      -0.289      -0.103\n",
       "cp             0.1127      0.022      5.036      0.000       0.069       0.157\n",
       "trestbps      -0.0020      0.001     -1.583      0.114      -0.004       0.000\n",
       "fbs            0.0174      0.060      0.291      0.771      -0.100       0.135\n",
       "restecg        0.0498      0.040      1.249      0.213      -0.029       0.128\n",
       "thalach        0.0030      0.001      2.671      0.008       0.001       0.005\n",
       "exang         -0.1440      0.051     -2.804      0.005      -0.245      -0.043\n",
       "oldpeak       -0.0588      0.023     -2.564      0.011      -0.104      -0.014\n",
       "slope          0.0790      0.042      1.863      0.063      -0.004       0.162\n",
       "ca            -0.1006      0.022     -4.603      0.000      -0.144      -0.058\n",
       "thal          -0.1190      0.036     -3.339      0.001      -0.189      -0.049\n",
       "==============================================================================\n",
       "Omnibus:                        6.751   Durbin-Watson:                   1.032\n",
       "Prob(Omnibus):                  0.034   Jarque-Bera (JB):                6.958\n",
       "Skew:                          -0.361   Prob(JB):                       0.0308\n",
       "Kurtosis:                       2.824   Cond. No.                     4.68e+03\n",
       "==============================================================================\n",
       "\n",
       "Warnings:\n",
       "[1] Standard Errors assume that the covariance matrix of the errors is correctly specified.\n",
       "[2] The condition number is large, 4.68e+03. This might indicate that there are\n",
       "strong multicollinearity or other numerical problems.\n",
       "\"\"\""
      ]
     },
     "execution_count": 28,
     "metadata": {},
     "output_type": "execute_result"
    }
   ],
   "source": [
    "lm = smf.ols('target ~ age + chol + sex + cp + trestbps + fbs + restecg + thalach + exang + oldpeak + slope + ca + thal', data).fit()\n",
    "lm.summary()"
   ]
  },
  {
   "cell_type": "code",
   "execution_count": 29,
   "metadata": {},
   "outputs": [
    {
     "data": {
      "image/png": "[encoded data removed]",
      "text/plain": [
       "<Figure size 432x288 with 1 Axes>"
      ]
     },
     "metadata": {
      "needs_background": "light"
     },
     "output_type": "display_data"
    }
   ],
   "source": [
    "lm.resid.hist(bins=20)\n",
    "plt.show()"
   ]
  },
  {
   "cell_type": "code",
   "execution_count": 30,
   "metadata": {},
   "outputs": [
    {
     "data": {
      "text/html": [
       "<div>\n",
       "<style scoped>\n",
       "    .dataframe tbody tr th:only-of-type {\n",
       "        vertical-align: middle;\n",
       "    }\n",
       "\n",
       "    .dataframe tbody tr th {\n",
       "        vertical-align: top;\n",
       "    }\n",
       "\n",
       "    .dataframe thead th {\n",
       "        text-align: right;\n",
       "    }\n",
       "</style>\n",
       "<table border=\"1\" class=\"dataframe\">\n",
       "  <thead>\n",
       "    <tr style=\"text-align: right;\">\n",
       "      <th></th>\n",
       "      <th>age</th>\n",
       "      <th>trestbps</th>\n",
       "      <th>chol</th>\n",
       "      <th>thalach</th>\n",
       "      <th>oldpeak</th>\n",
       "      <th>target</th>\n",
       "      <th>sex_1</th>\n",
       "      <th>cp_1</th>\n",
       "      <th>cp_2</th>\n",
       "      <th>cp_3</th>\n",
       "      <th>...</th>\n",
       "      <th>exang_1</th>\n",
       "      <th>slope_1</th>\n",
       "      <th>slope_2</th>\n",
       "      <th>ca_1</th>\n",
       "      <th>ca_2</th>\n",
       "      <th>ca_3</th>\n",
       "      <th>ca_4</th>\n",
       "      <th>thal_1</th>\n",
       "      <th>thal_2</th>\n",
       "      <th>thal_3</th>\n",
       "    </tr>\n",
       "  </thead>\n",
       "  <tbody>\n",
       "    <tr>\n",
       "      <td>0</td>\n",
       "      <td>63</td>\n",
       "      <td>145</td>\n",
       "      <td>233</td>\n",
       "      <td>150</td>\n",
       "      <td>2.3</td>\n",
       "      <td>1</td>\n",
       "      <td>1</td>\n",
       "      <td>0</td>\n",
       "      <td>0</td>\n",
       "      <td>1</td>\n",
       "      <td>...</td>\n",
       "      <td>0</td>\n",
       "      <td>0</td>\n",
       "      <td>0</td>\n",
       "      <td>0</td>\n",
       "      <td>0</td>\n",
       "      <td>0</td>\n",
       "      <td>0</td>\n",
       "      <td>1</td>\n",
       "      <td>0</td>\n",
       "      <td>0</td>\n",
       "    </tr>\n",
       "    <tr>\n",
       "      <td>1</td>\n",
       "      <td>37</td>\n",
       "      <td>130</td>\n",
       "      <td>250</td>\n",
       "      <td>187</td>\n",
       "      <td>3.5</td>\n",
       "      <td>1</td>\n",
       "      <td>1</td>\n",
       "      <td>0</td>\n",
       "      <td>1</td>\n",
       "      <td>0</td>\n",
       "      <td>...</td>\n",
       "      <td>0</td>\n",
       "      <td>0</td>\n",
       "      <td>0</td>\n",
       "      <td>0</td>\n",
       "      <td>0</td>\n",
       "      <td>0</td>\n",
       "      <td>0</td>\n",
       "      <td>0</td>\n",
       "      <td>1</td>\n",
       "      <td>0</td>\n",
       "    </tr>\n",
       "    <tr>\n",
       "      <td>2</td>\n",
       "      <td>41</td>\n",
       "      <td>130</td>\n",
       "      <td>204</td>\n",
       "      <td>172</td>\n",
       "      <td>1.4</td>\n",
       "      <td>1</td>\n",
       "      <td>0</td>\n",
       "      <td>1</td>\n",
       "      <td>0</td>\n",
       "      <td>0</td>\n",
       "      <td>...</td>\n",
       "      <td>0</td>\n",
       "      <td>0</td>\n",
       "      <td>1</td>\n",
       "      <td>0</td>\n",
       "      <td>0</td>\n",
       "      <td>0</td>\n",
       "      <td>0</td>\n",
       "      <td>0</td>\n",
       "      <td>1</td>\n",
       "      <td>0</td>\n",
       "    </tr>\n",
       "    <tr>\n",
       "      <td>3</td>\n",
       "      <td>56</td>\n",
       "      <td>120</td>\n",
       "      <td>236</td>\n",
       "      <td>178</td>\n",
       "      <td>0.8</td>\n",
       "      <td>1</td>\n",
       "      <td>1</td>\n",
       "      <td>1</td>\n",
       "      <td>0</td>\n",
       "      <td>0</td>\n",
       "      <td>...</td>\n",
       "      <td>0</td>\n",
       "      <td>0</td>\n",
       "      <td>1</td>\n",
       "      <td>0</td>\n",
       "      <td>0</td>\n",
       "      <td>0</td>\n",
       "      <td>0</td>\n",
       "      <td>0</td>\n",
       "      <td>1</td>\n",
       "      <td>0</td>\n",
       "    </tr>\n",
       "    <tr>\n",
       "      <td>4</td>\n",
       "      <td>57</td>\n",
       "      <td>120</td>\n",
       "      <td>354</td>\n",
       "      <td>163</td>\n",
       "      <td>0.6</td>\n",
       "      <td>1</td>\n",
       "      <td>0</td>\n",
       "      <td>0</td>\n",
       "      <td>0</td>\n",
       "      <td>0</td>\n",
       "      <td>...</td>\n",
       "      <td>1</td>\n",
       "      <td>0</td>\n",
       "      <td>1</td>\n",
       "      <td>0</td>\n",
       "      <td>0</td>\n",
       "      <td>0</td>\n",
       "      <td>0</td>\n",
       "      <td>0</td>\n",
       "      <td>1</td>\n",
       "      <td>0</td>\n",
       "    </tr>\n",
       "  </tbody>\n",
       "</table>\n",
       "<p>5 rows × 23 columns</p>\n",
       "</div>"
      ],
      "text/plain": [
       "   age  trestbps  chol  thalach  oldpeak  target  sex_1  cp_1  cp_2  cp_3  \\\n",
       "0   63       145   233      150      2.3       1      1     0     0     1   \n",
       "1   37       130   250      187      3.5       1      1     0     1     0   \n",
       "2   41       130   204      172      1.4       1      0     1     0     0   \n",
       "3   56       120   236      178      0.8       1      1     1     0     0   \n",
       "4   57       120   354      163      0.6       1      0     0     0     0   \n",
       "\n",
       "   ...  exang_1  slope_1  slope_2  ca_1  ca_2  ca_3  ca_4  thal_1  thal_2  \\\n",
       "0  ...        0        0        0     0     0     0     0       1       0   \n",
       "1  ...        0        0        0     0     0     0     0       0       1   \n",
       "2  ...        0        0        1     0     0     0     0       0       1   \n",
       "3  ...        0        0        1     0     0     0     0       0       1   \n",
       "4  ...        1        0        1     0     0     0     0       0       1   \n",
       "\n",
       "   thal_3  \n",
       "0       0  \n",
       "1       0  \n",
       "2       0  \n",
       "3       0  \n",
       "4       0  \n",
       "\n",
       "[5 rows x 23 columns]"
      ]
     },
     "execution_count": 30,
     "metadata": {},
     "output_type": "execute_result"
    }
   ],
   "source": [
    "data_new = pd.get_dummies(data, columns=['sex','cp', 'fbs','restecg','exang','slope','ca','thal'], drop_first=True)\n",
    "data_new.head()"
   ]
  },
  {
   "cell_type": "code",
   "execution_count": 31,
   "metadata": {},
   "outputs": [
    {
     "data": {
      "text/plain": [
       "Index(['age', 'trestbps', 'chol', 'thalach', 'oldpeak', 'target', 'sex_1',\n",
       "       'cp_1', 'cp_2', 'cp_3', 'fbs_1', 'restecg_1', 'restecg_2', 'exang_1',\n",
       "       'slope_1', 'slope_2', 'ca_1', 'ca_2', 'ca_3', 'ca_4', 'thal_1',\n",
       "       'thal_2', 'thal_3'],\n",
       "      dtype='object')"
      ]
     },
     "execution_count": 31,
     "metadata": {},
     "output_type": "execute_result"
    }
   ],
   "source": [
    "data_new.columns"
   ]
  },
  {
   "cell_type": "code",
   "execution_count": 38,
   "metadata": {},
   "outputs": [
    {
     "data": {
      "text/html": [
       "<table class=\"simpletable\">\n",
       "<caption>OLS Regression Results</caption>\n",
       "<tr>\n",
       "  <th>Dep. Variable:</th>         <td>target</td>      <th>  R-squared:         </th>  <td>   1.000</td> \n",
       "</tr>\n",
       "<tr>\n",
       "  <th>Model:</th>                   <td>OLS</td>       <th>  Adj. R-squared:    </th>  <td>   1.000</td> \n",
       "</tr>\n",
       "<tr>\n",
       "  <th>Method:</th>             <td>Least Squares</td>  <th>  F-statistic:       </th>  <td>3.570e+29</td>\n",
       "</tr>\n",
       "<tr>\n",
       "  <th>Date:</th>             <td>Thu, 12 Dec 2019</td> <th>  Prob (F-statistic):</th>   <td>  0.00</td>  \n",
       "</tr>\n",
       "<tr>\n",
       "  <th>Time:</th>                 <td>22:46:49</td>     <th>  Log-Likelihood:    </th>  <td>  9712.4</td> \n",
       "</tr>\n",
       "<tr>\n",
       "  <th>No. Observations:</th>      <td>   303</td>      <th>  AIC:               </th> <td>-1.938e+04</td>\n",
       "</tr>\n",
       "<tr>\n",
       "  <th>Df Residuals:</th>          <td>   279</td>      <th>  BIC:               </th> <td>-1.929e+04</td>\n",
       "</tr>\n",
       "<tr>\n",
       "  <th>Df Model:</th>              <td>    23</td>      <th>                     </th>      <td> </td>    \n",
       "</tr>\n",
       "<tr>\n",
       "  <th>Covariance Type:</th>      <td>nonrobust</td>    <th>                     </th>      <td> </td>    \n",
       "</tr>\n",
       "</table>\n",
       "<table class=\"simpletable\">\n",
       "<tr>\n",
       "      <td></td>         <th>coef</th>     <th>std err</th>      <th>t</th>      <th>P>|t|</th>  <th>[0.025</th>    <th>0.975]</th>  \n",
       "</tr>\n",
       "<tr>\n",
       "  <th>Intercept</th> <td> 1.082e-15</td> <td> 3.34e-15</td> <td>    0.324</td> <td> 0.746</td> <td>-5.49e-15</td> <td> 7.66e-15</td>\n",
       "</tr>\n",
       "<tr>\n",
       "  <th>age</th>       <td> 3.383e-17</td> <td>  2.4e-17</td> <td>    1.412</td> <td> 0.159</td> <td>-1.33e-17</td> <td>  8.1e-17</td>\n",
       "</tr>\n",
       "<tr>\n",
       "  <th>trestbps</th>  <td>-7.427e-17</td> <td> 1.11e-17</td> <td>   -6.705</td> <td> 0.000</td> <td>-9.61e-17</td> <td>-5.25e-17</td>\n",
       "</tr>\n",
       "<tr>\n",
       "  <th>chol</th>      <td> -1.03e-17</td> <td> 3.63e-18</td> <td>   -2.834</td> <td> 0.005</td> <td>-1.75e-17</td> <td>-3.14e-18</td>\n",
       "</tr>\n",
       "<tr>\n",
       "  <th>thalach</th>   <td> 4.993e-17</td> <td> 1.02e-17</td> <td>    4.917</td> <td> 0.000</td> <td> 2.99e-17</td> <td> 6.99e-17</td>\n",
       "</tr>\n",
       "<tr>\n",
       "  <th>oldpeak</th>   <td> 1.936e-15</td> <td> 2.09e-16</td> <td>    9.257</td> <td> 0.000</td> <td> 1.52e-15</td> <td> 2.35e-15</td>\n",
       "</tr>\n",
       "<tr>\n",
       "  <th>target</th>    <td>    1.0000</td> <td>  5.4e-16</td> <td> 1.85e+15</td> <td> 0.000</td> <td>    1.000</td> <td>    1.000</td>\n",
       "</tr>\n",
       "<tr>\n",
       "  <th>sex_1</th>     <td> 1.055e-15</td> <td> 4.44e-16</td> <td>    2.373</td> <td> 0.018</td> <td>  1.8e-16</td> <td> 1.93e-15</td>\n",
       "</tr>\n",
       "<tr>\n",
       "  <th>cp_1</th>      <td>-3.955e-16</td> <td> 5.85e-16</td> <td>   -0.676</td> <td> 0.499</td> <td>-1.55e-15</td> <td> 7.56e-16</td>\n",
       "</tr>\n",
       "<tr>\n",
       "  <th>cp_2</th>      <td>-3.504e-16</td> <td> 5.01e-16</td> <td>   -0.700</td> <td> 0.485</td> <td>-1.34e-15</td> <td> 6.35e-16</td>\n",
       "</tr>\n",
       "<tr>\n",
       "  <th>cp_3</th>      <td>-6.939e-17</td> <td> 7.46e-16</td> <td>   -0.093</td> <td> 0.926</td> <td>-1.54e-15</td> <td>  1.4e-15</td>\n",
       "</tr>\n",
       "<tr>\n",
       "  <th>fbs_1</th>     <td> 2.567e-16</td> <td> 5.19e-16</td> <td>    0.494</td> <td> 0.622</td> <td>-7.66e-16</td> <td> 1.28e-15</td>\n",
       "</tr>\n",
       "<tr>\n",
       "  <th>restecg_1</th> <td>-6.314e-16</td> <td>  3.7e-16</td> <td>   -1.708</td> <td> 0.089</td> <td>-1.36e-15</td> <td> 9.61e-17</td>\n",
       "</tr>\n",
       "<tr>\n",
       "  <th>restecg_2</th> <td> 2.776e-16</td> <td> 1.59e-15</td> <td>    0.175</td> <td> 0.861</td> <td>-2.85e-15</td> <td>  3.4e-15</td>\n",
       "</tr>\n",
       "<tr>\n",
       "  <th>exang_1</th>   <td> 5.274e-16</td> <td> 4.54e-16</td> <td>    1.161</td> <td> 0.247</td> <td>-3.67e-16</td> <td> 1.42e-15</td>\n",
       "</tr>\n",
       "<tr>\n",
       "  <th>slope_1</th>   <td> -1.11e-16</td> <td> 7.77e-16</td> <td>   -0.143</td> <td> 0.886</td> <td>-1.64e-15</td> <td> 1.42e-15</td>\n",
       "</tr>\n",
       "<tr>\n",
       "  <th>slope_2</th>   <td>-6.661e-16</td> <td> 8.59e-16</td> <td>   -0.775</td> <td> 0.439</td> <td>-2.36e-15</td> <td> 1.03e-15</td>\n",
       "</tr>\n",
       "<tr>\n",
       "  <th>ca_1</th>      <td> 1.388e-16</td> <td> 5.01e-16</td> <td>    0.277</td> <td> 0.782</td> <td>-8.47e-16</td> <td> 1.12e-15</td>\n",
       "</tr>\n",
       "<tr>\n",
       "  <th>ca_2</th>      <td> 6.939e-18</td> <td> 6.43e-16</td> <td>    0.011</td> <td> 0.991</td> <td>-1.26e-15</td> <td> 1.27e-15</td>\n",
       "</tr>\n",
       "<tr>\n",
       "  <th>ca_3</th>      <td>-4.163e-17</td> <td> 7.94e-16</td> <td>   -0.052</td> <td> 0.958</td> <td> -1.6e-15</td> <td> 1.52e-15</td>\n",
       "</tr>\n",
       "<tr>\n",
       "  <th>ca_4</th>      <td>-3.036e-16</td> <td> 1.41e-15</td> <td>   -0.216</td> <td> 0.829</td> <td>-3.07e-15</td> <td> 2.46e-15</td>\n",
       "</tr>\n",
       "<tr>\n",
       "  <th>thal_1</th>    <td>-1.166e-15</td> <td>  2.3e-15</td> <td>   -0.507</td> <td> 0.613</td> <td>-5.69e-15</td> <td> 3.36e-15</td>\n",
       "</tr>\n",
       "<tr>\n",
       "  <th>thal_2</th>    <td>-4.441e-16</td> <td> 2.19e-15</td> <td>   -0.203</td> <td> 0.839</td> <td>-4.75e-15</td> <td> 3.87e-15</td>\n",
       "</tr>\n",
       "<tr>\n",
       "  <th>thal_3</th>    <td>         0</td> <td>  2.2e-15</td> <td>        0</td> <td> 1.000</td> <td>-4.33e-15</td> <td> 4.33e-15</td>\n",
       "</tr>\n",
       "</table>\n",
       "<table class=\"simpletable\">\n",
       "<tr>\n",
       "  <th>Omnibus:</th>       <td>19.093</td> <th>  Durbin-Watson:     </th> <td>   1.443</td>\n",
       "</tr>\n",
       "<tr>\n",
       "  <th>Prob(Omnibus):</th> <td> 0.000</td> <th>  Jarque-Bera (JB):  </th> <td>  20.855</td>\n",
       "</tr>\n",
       "<tr>\n",
       "  <th>Skew:</th>          <td>-0.622</td> <th>  Prob(JB):          </th> <td>2.96e-05</td>\n",
       "</tr>\n",
       "<tr>\n",
       "  <th>Kurtosis:</th>      <td> 3.326</td> <th>  Cond. No.          </th> <td>8.43e+03</td>\n",
       "</tr>\n",
       "</table><br/><br/>Warnings:<br/>[1] Standard Errors assume that the covariance matrix of the errors is correctly specified.<br/>[2] The condition number is large, 8.43e+03. This might indicate that there are<br/>strong multicollinearity or other numerical problems."
      ],
      "text/plain": [
       "<class 'statsmodels.iolib.summary.Summary'>\n",
       "\"\"\"\n",
       "                            OLS Regression Results                            \n",
       "==============================================================================\n",
       "Dep. Variable:                 target   R-squared:                       1.000\n",
       "Model:                            OLS   Adj. R-squared:                  1.000\n",
       "Method:                 Least Squares   F-statistic:                 3.570e+29\n",
       "Date:                Thu, 12 Dec 2019   Prob (F-statistic):               0.00\n",
       "Time:                        22:46:49   Log-Likelihood:                 9712.4\n",
       "No. Observations:                 303   AIC:                        -1.938e+04\n",
       "Df Residuals:                     279   BIC:                        -1.929e+04\n",
       "Df Model:                          23                                         \n",
       "Covariance Type:            nonrobust                                         \n",
       "==============================================================================\n",
       "                 coef    std err          t      P>|t|      [0.025      0.975]\n",
       "------------------------------------------------------------------------------\n",
       "Intercept   1.082e-15   3.34e-15      0.324      0.746   -5.49e-15    7.66e-15\n",
       "age         3.383e-17    2.4e-17      1.412      0.159   -1.33e-17     8.1e-17\n",
       "trestbps   -7.427e-17   1.11e-17     -6.705      0.000   -9.61e-17   -5.25e-17\n",
       "chol        -1.03e-17   3.63e-18     -2.834      0.005   -1.75e-17   -3.14e-18\n",
       "thalach     4.993e-17   1.02e-17      4.917      0.000    2.99e-17    6.99e-17\n",
       "oldpeak     1.936e-15   2.09e-16      9.257      0.000    1.52e-15    2.35e-15\n",
       "target         1.0000    5.4e-16   1.85e+15      0.000       1.000       1.000\n",
       "sex_1       1.055e-15   4.44e-16      2.373      0.018     1.8e-16    1.93e-15\n",
       "cp_1       -3.955e-16   5.85e-16     -0.676      0.499   -1.55e-15    7.56e-16\n",
       "cp_2       -3.504e-16   5.01e-16     -0.700      0.485   -1.34e-15    6.35e-16\n",
       "cp_3       -6.939e-17   7.46e-16     -0.093      0.926   -1.54e-15     1.4e-15\n",
       "fbs_1       2.567e-16   5.19e-16      0.494      0.622   -7.66e-16    1.28e-15\n",
       "restecg_1  -6.314e-16    3.7e-16     -1.708      0.089   -1.36e-15    9.61e-17\n",
       "restecg_2   2.776e-16   1.59e-15      0.175      0.861   -2.85e-15     3.4e-15\n",
       "exang_1     5.274e-16   4.54e-16      1.161      0.247   -3.67e-16    1.42e-15\n",
       "slope_1     -1.11e-16   7.77e-16     -0.143      0.886   -1.64e-15    1.42e-15\n",
       "slope_2    -6.661e-16   8.59e-16     -0.775      0.439   -2.36e-15    1.03e-15\n",
       "ca_1        1.388e-16   5.01e-16      0.277      0.782   -8.47e-16    1.12e-15\n",
       "ca_2        6.939e-18   6.43e-16      0.011      0.991   -1.26e-15    1.27e-15\n",
       "ca_3       -4.163e-17   7.94e-16     -0.052      0.958    -1.6e-15    1.52e-15\n",
       "ca_4       -3.036e-16   1.41e-15     -0.216      0.829   -3.07e-15    2.46e-15\n",
       "thal_1     -1.166e-15    2.3e-15     -0.507      0.613   -5.69e-15    3.36e-15\n",
       "thal_2     -4.441e-16   2.19e-15     -0.203      0.839   -4.75e-15    3.87e-15\n",
       "thal_3              0    2.2e-15          0      1.000   -4.33e-15    4.33e-15\n",
       "==============================================================================\n",
       "Omnibus:                       19.093   Durbin-Watson:                   1.443\n",
       "Prob(Omnibus):                  0.000   Jarque-Bera (JB):               20.855\n",
       "Skew:                          -0.622   Prob(JB):                     2.96e-05\n",
       "Kurtosis:                       3.326   Cond. No.                     8.43e+03\n",
       "==============================================================================\n",
       "\n",
       "Warnings:\n",
       "[1] Standard Errors assume that the covariance matrix of the errors is correctly specified.\n",
       "[2] The condition number is large, 8.43e+03. This might indicate that there are\n",
       "strong multicollinearity or other numerical problems.\n",
       "\"\"\""
      ]
     },
     "execution_count": 38,
     "metadata": {},
     "output_type": "execute_result"
    }
   ],
   "source": [
    "lm2 = smf.ols('target ~ age+ trestbps + chol + thalach + oldpeak + target + sex_1 + \\\n",
    "           cp_1 + cp_2 + cp_3 + fbs_1 + restecg_1 + restecg_2 + exang_1 + \\\n",
    "               slope_1 + slope_2 + ca_1 + ca_2 + ca_3 + ca_4 + thal_1 + \\\n",
    "                   thal_2 + thal_3', data=data_new).fit()\n",
    "\n",
    "lm2.summary()"
   ]
  },
  {
   "cell_type": "code",
   "execution_count": 39,
   "metadata": {},
   "outputs": [
    {
     "data": {
      "image/png": "[encoded data removed]",
      "text/plain": [
       "<Figure size 432x288 with 1 Axes>"
      ]
     },
     "metadata": {
      "needs_background": "light"
     },
     "output_type": "display_data"
    }
   ],
   "source": [
    "lm2.resid.hist(bins=20)\n",
    "plt.show()"
   ]
  },
  {
   "cell_type": "code",
   "execution_count": 95,
   "metadata": {},
   "outputs": [
    {
     "data": {
      "text/html": [
       "<div>\n",
       "<style scoped>\n",
       "    .dataframe tbody tr th:only-of-type {\n",
       "        vertical-align: middle;\n",
       "    }\n",
       "\n",
       "    .dataframe tbody tr th {\n",
       "        vertical-align: top;\n",
       "    }\n",
       "\n",
       "    .dataframe thead th {\n",
       "        text-align: right;\n",
       "    }\n",
       "</style>\n",
       "<table border=\"1\" class=\"dataframe\">\n",
       "  <thead>\n",
       "    <tr style=\"text-align: right;\">\n",
       "      <th></th>\n",
       "      <th>age</th>\n",
       "      <th>trestbps</th>\n",
       "      <th>chol</th>\n",
       "      <th>thalach</th>\n",
       "      <th>oldpeak</th>\n",
       "      <th>sex_1</th>\n",
       "      <th>cp_1</th>\n",
       "      <th>cp_2</th>\n",
       "      <th>cp_3</th>\n",
       "      <th>fbs_1</th>\n",
       "      <th>...</th>\n",
       "      <th>exang_1</th>\n",
       "      <th>slope_1</th>\n",
       "      <th>slope_2</th>\n",
       "      <th>ca_1</th>\n",
       "      <th>ca_2</th>\n",
       "      <th>ca_3</th>\n",
       "      <th>ca_4</th>\n",
       "      <th>thal_1</th>\n",
       "      <th>thal_2</th>\n",
       "      <th>thal_3</th>\n",
       "    </tr>\n",
       "  </thead>\n",
       "  <tbody>\n",
       "    <tr>\n",
       "      <td>0</td>\n",
       "      <td>63</td>\n",
       "      <td>145</td>\n",
       "      <td>233</td>\n",
       "      <td>150</td>\n",
       "      <td>2.3</td>\n",
       "      <td>1</td>\n",
       "      <td>0</td>\n",
       "      <td>0</td>\n",
       "      <td>1</td>\n",
       "      <td>1</td>\n",
       "      <td>...</td>\n",
       "      <td>0</td>\n",
       "      <td>0</td>\n",
       "      <td>0</td>\n",
       "      <td>0</td>\n",
       "      <td>0</td>\n",
       "      <td>0</td>\n",
       "      <td>0</td>\n",
       "      <td>1</td>\n",
       "      <td>0</td>\n",
       "      <td>0</td>\n",
       "    </tr>\n",
       "    <tr>\n",
       "      <td>1</td>\n",
       "      <td>37</td>\n",
       "      <td>130</td>\n",
       "      <td>250</td>\n",
       "      <td>187</td>\n",
       "      <td>3.5</td>\n",
       "      <td>1</td>\n",
       "      <td>0</td>\n",
       "      <td>1</td>\n",
       "      <td>0</td>\n",
       "      <td>0</td>\n",
       "      <td>...</td>\n",
       "      <td>0</td>\n",
       "      <td>0</td>\n",
       "      <td>0</td>\n",
       "      <td>0</td>\n",
       "      <td>0</td>\n",
       "      <td>0</td>\n",
       "      <td>0</td>\n",
       "      <td>0</td>\n",
       "      <td>1</td>\n",
       "      <td>0</td>\n",
       "    </tr>\n",
       "    <tr>\n",
       "      <td>2</td>\n",
       "      <td>41</td>\n",
       "      <td>130</td>\n",
       "      <td>204</td>\n",
       "      <td>172</td>\n",
       "      <td>1.4</td>\n",
       "      <td>0</td>\n",
       "      <td>1</td>\n",
       "      <td>0</td>\n",
       "      <td>0</td>\n",
       "      <td>0</td>\n",
       "      <td>...</td>\n",
       "      <td>0</td>\n",
       "      <td>0</td>\n",
       "      <td>1</td>\n",
       "      <td>0</td>\n",
       "      <td>0</td>\n",
       "      <td>0</td>\n",
       "      <td>0</td>\n",
       "      <td>0</td>\n",
       "      <td>1</td>\n",
       "      <td>0</td>\n",
       "    </tr>\n",
       "    <tr>\n",
       "      <td>3</td>\n",
       "      <td>56</td>\n",
       "      <td>120</td>\n",
       "      <td>236</td>\n",
       "      <td>178</td>\n",
       "      <td>0.8</td>\n",
       "      <td>1</td>\n",
       "      <td>1</td>\n",
       "      <td>0</td>\n",
       "      <td>0</td>\n",
       "      <td>0</td>\n",
       "      <td>...</td>\n",
       "      <td>0</td>\n",
       "      <td>0</td>\n",
       "      <td>1</td>\n",
       "      <td>0</td>\n",
       "      <td>0</td>\n",
       "      <td>0</td>\n",
       "      <td>0</td>\n",
       "      <td>0</td>\n",
       "      <td>1</td>\n",
       "      <td>0</td>\n",
       "    </tr>\n",
       "    <tr>\n",
       "      <td>4</td>\n",
       "      <td>57</td>\n",
       "      <td>120</td>\n",
       "      <td>354</td>\n",
       "      <td>163</td>\n",
       "      <td>0.6</td>\n",
       "      <td>0</td>\n",
       "      <td>0</td>\n",
       "      <td>0</td>\n",
       "      <td>0</td>\n",
       "      <td>0</td>\n",
       "      <td>...</td>\n",
       "      <td>1</td>\n",
       "      <td>0</td>\n",
       "      <td>1</td>\n",
       "      <td>0</td>\n",
       "      <td>0</td>\n",
       "      <td>0</td>\n",
       "      <td>0</td>\n",
       "      <td>0</td>\n",
       "      <td>1</td>\n",
       "      <td>0</td>\n",
       "    </tr>\n",
       "  </tbody>\n",
       "</table>\n",
       "<p>5 rows × 22 columns</p>\n",
       "</div>"
      ],
      "text/plain": [
       "   age  trestbps  chol  thalach  oldpeak  sex_1  cp_1  cp_2  cp_3  fbs_1  ...  \\\n",
       "0   63       145   233      150      2.3      1     0     0     1      1  ...   \n",
       "1   37       130   250      187      3.5      1     0     1     0      0  ...   \n",
       "2   41       130   204      172      1.4      0     1     0     0      0  ...   \n",
       "3   56       120   236      178      0.8      1     1     0     0      0  ...   \n",
       "4   57       120   354      163      0.6      0     0     0     0      0  ...   \n",
       "\n",
       "   exang_1  slope_1  slope_2  ca_1  ca_2  ca_3  ca_4  thal_1  thal_2  thal_3  \n",
       "0        0        0        0     0     0     0     0       1       0       0  \n",
       "1        0        0        0     0     0     0     0       0       1       0  \n",
       "2        0        0        1     0     0     0     0       0       1       0  \n",
       "3        0        0        1     0     0     0     0       0       1       0  \n",
       "4        1        0        1     0     0     0     0       0       1       0  \n",
       "\n",
       "[5 rows x 22 columns]"
      ]
     },
     "execution_count": 95,
     "metadata": {},
     "output_type": "execute_result"
    }
   ],
   "source": [
    "X = data_new.drop('target', 1)\n",
    "X.head()"
   ]
  },
  {
   "cell_type": "markdown",
   "metadata": {},
   "source": [
    "## Decision Tree regressor:"
   ]
  },
  {
   "cell_type": "code",
   "execution_count": 96,
   "metadata": {},
   "outputs": [],
   "source": [
    "reg = tree.DecisionTreeRegressor(max_depth = 5)\n",
    "reg = reg.fit(X, data_new['target'])"
   ]
  },
  {
   "cell_type": "code",
   "execution_count": 97,
   "metadata": {},
   "outputs": [
    {
     "data": {
      "image/png": "[encoded data removed]",
      "text/plain": [
       "<Figure size 432x288 with 1 Axes>"
      ]
     },
     "metadata": {
      "needs_background": "light"
     },
     "output_type": "display_data"
    }
   ],
   "source": [
    "tree.plot_tree(reg)\n",
    "plt.show()"
   ]
  },
  {
   "cell_type": "code",
   "execution_count": 98,
   "metadata": {},
   "outputs": [],
   "source": [
    "X_train, X_test, y_train, y_test = train_test_split(X, data_new['target'], test_size = 0.2)"
   ]
  },
  {
   "cell_type": "code",
   "execution_count": 99,
   "metadata": {},
   "outputs": [
    {
     "data": {
      "text/plain": [
       "DecisionTreeRegressor(criterion='mse', max_depth=3, max_features=None,\n",
       "                      max_leaf_nodes=None, min_impurity_decrease=0.0,\n",
       "                      min_impurity_split=None, min_samples_leaf=1,\n",
       "                      min_samples_split=2, min_weight_fraction_leaf=0.0,\n",
       "                      presort=False, random_state=None, splitter='best')"
      ]
     },
     "execution_count": 99,
     "metadata": {},
     "output_type": "execute_result"
    }
   ],
   "source": [
    "reg2 = tree.DecisionTreeRegressor(max_depth = 3)\n",
    "reg3 = reg2.fit(X_train, y_train)\n",
    "reg3"
   ]
  },
  {
   "cell_type": "code",
   "execution_count": 100,
   "metadata": {},
   "outputs": [
    {
     "data": {
      "text/plain": [
       "array([0.95522388, 0.83333333, 0.68292683, 0.08      , 0.95522388,\n",
       "       0.83333333, 0.08      , 0.08      , 0.95522388, 0.95522388,\n",
       "       0.08      , 0.21428571, 0.95522388, 0.08      , 0.72222222,\n",
       "       0.08      , 0.68292683, 0.08      , 0.08      , 0.17647059,\n",
       "       0.21428571, 0.95522388, 0.95522388, 0.17647059, 0.95522388,\n",
       "       0.72222222, 0.08      , 0.17647059, 0.68292683, 0.95522388,\n",
       "       0.21428571, 0.68292683, 0.95522388, 0.72222222, 0.72222222,\n",
       "       0.68292683, 0.95522388, 0.08      , 0.21428571, 0.08      ,\n",
       "       0.72222222, 0.17647059, 0.21428571, 0.68292683, 0.95522388,\n",
       "       0.68292683, 0.95522388, 0.95522388, 0.83333333, 0.95522388,\n",
       "       0.68292683, 0.95522388, 0.95522388, 0.72222222, 0.08      ,\n",
       "       0.21428571, 0.72222222, 0.95522388, 0.21428571, 0.95522388,\n",
       "       0.83333333])"
      ]
     },
     "execution_count": 100,
     "metadata": {},
     "output_type": "execute_result"
    }
   ],
   "source": [
    "predictions = reg3.predict(X_test)\n",
    "predictions"
   ]
  },
  {
   "cell_type": "code",
   "execution_count": 101,
   "metadata": {},
   "outputs": [
    {
     "data": {
      "text/plain": [
       "0.20439636585221957"
      ]
     },
     "execution_count": 101,
     "metadata": {},
     "output_type": "execute_result"
    }
   ],
   "source": [
    "((predictions - y_test)**2).mean()\n"
   ]
  },
  {
   "cell_type": "code",
   "execution_count": 102,
   "metadata": {},
   "outputs": [
    {
     "data": {
      "text/plain": [
       "0"
      ]
     },
     "execution_count": 102,
     "metadata": {},
     "output_type": "execute_result"
    }
   ],
   "source": [
    "(data['chol']==0).sum()"
   ]
  },
  {
   "cell_type": "code",
   "execution_count": 104,
   "metadata": {},
   "outputs": [
    {
     "data": {
      "image/png": "[encoded data removed]",
      "text/plain": [
       "<Figure size 432x288 with 1 Axes>"
      ]
     },
     "metadata": {
      "needs_background": "light"
     },
     "output_type": "display_data"
    }
   ],
   "source": [
    "sns.regplot(y='target', x='chol', data = data, fit_reg = True)\n",
    "plt.show()"
   ]
  },
  {
   "cell_type": "code",
   "execution_count": 106,
   "metadata": {},
   "outputs": [
    {
     "name": "stdout",
     "output_type": "stream",
     "text": [
      "Optimization terminated successfully.\n",
      "         Current function value: 0.685527\n",
      "         Iterations 4\n"
     ]
    },
    {
     "data": {
      "text/html": [
       "<table class=\"simpletable\">\n",
       "<caption>Logit Regression Results</caption>\n",
       "<tr>\n",
       "  <th>Dep. Variable:</th>        <td>target</td>      <th>  No. Observations:  </th>  <td>   303</td> \n",
       "</tr>\n",
       "<tr>\n",
       "  <th>Model:</th>                 <td>Logit</td>      <th>  Df Residuals:      </th>  <td>   301</td> \n",
       "</tr>\n",
       "<tr>\n",
       "  <th>Method:</th>                 <td>MLE</td>       <th>  Df Model:          </th>  <td>     1</td> \n",
       "</tr>\n",
       "<tr>\n",
       "  <th>Date:</th>            <td>Thu, 12 Dec 2019</td> <th>  Pseudo R-squ.:     </th> <td>0.005288</td>\n",
       "</tr>\n",
       "<tr>\n",
       "  <th>Time:</th>                <td>23:38:13</td>     <th>  Log-Likelihood:    </th> <td> -207.71</td>\n",
       "</tr>\n",
       "<tr>\n",
       "  <th>converged:</th>             <td>True</td>       <th>  LL-Null:           </th> <td> -208.82</td>\n",
       "</tr>\n",
       "<tr>\n",
       "  <th>Covariance Type:</th>     <td>nonrobust</td>    <th>  LLR p-value:       </th>  <td>0.1373</td> \n",
       "</tr>\n",
       "</table>\n",
       "<table class=\"simpletable\">\n",
       "<tr>\n",
       "      <td></td>         <th>coef</th>     <th>std err</th>      <th>z</th>      <th>P>|z|</th>  <th>[0.025</th>    <th>0.975]</th>  \n",
       "</tr>\n",
       "<tr>\n",
       "  <th>Intercept</th> <td>    1.0016</td> <td>    0.571</td> <td>    1.753</td> <td> 0.080</td> <td>   -0.118</td> <td>    2.122</td>\n",
       "</tr>\n",
       "<tr>\n",
       "  <th>chol</th>      <td>   -0.0033</td> <td>    0.002</td> <td>   -1.471</td> <td> 0.141</td> <td>   -0.008</td> <td>    0.001</td>\n",
       "</tr>\n",
       "</table>"
      ],
      "text/plain": [
       "<class 'statsmodels.iolib.summary.Summary'>\n",
       "\"\"\"\n",
       "                           Logit Regression Results                           \n",
       "==============================================================================\n",
       "Dep. Variable:                 target   No. Observations:                  303\n",
       "Model:                          Logit   Df Residuals:                      301\n",
       "Method:                           MLE   Df Model:                            1\n",
       "Date:                Thu, 12 Dec 2019   Pseudo R-squ.:                0.005288\n",
       "Time:                        23:38:13   Log-Likelihood:                -207.71\n",
       "converged:                       True   LL-Null:                       -208.82\n",
       "Covariance Type:            nonrobust   LLR p-value:                    0.1373\n",
       "==============================================================================\n",
       "                 coef    std err          z      P>|z|      [0.025      0.975]\n",
       "------------------------------------------------------------------------------\n",
       "Intercept      1.0016      0.571      1.753      0.080      -0.118       2.122\n",
       "chol          -0.0033      0.002     -1.471      0.141      -0.008       0.001\n",
       "==============================================================================\n",
       "\"\"\""
      ]
     },
     "execution_count": 106,
     "metadata": {},
     "output_type": "execute_result"
    }
   ],
   "source": [
    "logit_model = smf.logit('target ~ chol', data = data).fit()\n",
    "logit_model.summary()"
   ]
  },
  {
   "cell_type": "code",
   "execution_count": 107,
   "metadata": {},
   "outputs": [
    {
     "data": {
      "text/plain": [
       "Intercept    1.001617\n",
       "chol        -0.003338\n",
       "dtype: float64"
      ]
     },
     "execution_count": 107,
     "metadata": {},
     "output_type": "execute_result"
    }
   ],
   "source": [
    "logit_model.params"
   ]
  },
  {
   "cell_type": "code",
   "execution_count": 108,
   "metadata": {},
   "outputs": [],
   "source": [
    "X = np.linspace(0, 600, 320)"
   ]
  },
  {
   "cell_type": "code",
   "execution_count": 115,
   "metadata": {},
   "outputs": [],
   "source": [
    "p = logit_model.params\n",
    "reg44 = p['Intercept'] + X*p['chol']"
   ]
  },
  {
   "cell_type": "code",
   "execution_count": 116,
   "metadata": {},
   "outputs": [],
   "source": [
    "y = np.exp(reg44)/(1 + np.exp(reg44))"
   ]
  },
  {
   "cell_type": "code",
   "execution_count": 122,
   "metadata": {},
   "outputs": [
    {
     "data": {
      "image/png": "[encoded data removed]",
      "text/plain": [
       "<Figure size 360x360 with 1 Axes>"
      ]
     },
     "metadata": {
      "needs_background": "light"
     },
     "output_type": "display_data"
    }
   ],
   "source": [
    "sns.relplot(x='chol', y='target', data=data)\n",
    "plt.plot(X,y)\n",
    "plt.show()"
   ]
  },
  {
   "cell_type": "code",
   "execution_count": 123,
   "metadata": {},
   "outputs": [
    {
     "data": {
      "text/plain": [
       "array([[ 20., 118.],\n",
       "       [ 23., 142.]])"
      ]
     },
     "execution_count": 123,
     "metadata": {},
     "output_type": "execute_result"
    }
   ],
   "source": [
    "logit_model.pred_table()"
   ]
  },
  {
   "cell_type": "markdown",
   "metadata": {},
   "source": [
    "### In order to work further, I have to split our data and compose and automatic transformer, so whenever I get a new data, I filter the new data with this transformer instead of sorting it all over again¶"
   ]
  },
  {
   "cell_type": "code",
   "execution_count": 42,
   "metadata": {},
   "outputs": [
    {
     "data": {
      "image/png": "[encoded data removed]",
      "text/plain": [
       "<Figure size 1440x1080 with 16 Axes>"
      ]
     },
     "metadata": {
      "needs_background": "light"
     },
     "output_type": "display_data"
    }
   ],
   "source": [
    "%matplotlib inline\n",
    "import matplotlib.pyplot as plt \n",
    "data.hist(bins=50, figsize=(20,15))\n",
    "plt.show()"
   ]
  },
  {
   "cell_type": "code",
   "execution_count": 43,
   "metadata": {},
   "outputs": [],
   "source": [
    "from sklearn.model_selection import train_test_split\n",
    "\n",
    "train_set, test_set = train_test_split(data, test_size=0.2, random_state=42)"
   ]
  },
  {
   "cell_type": "code",
   "execution_count": 44,
   "metadata": {},
   "outputs": [
    {
     "data": {
      "text/plain": [
       "242"
      ]
     },
     "execution_count": 44,
     "metadata": {},
     "output_type": "execute_result"
    }
   ],
   "source": [
    "len(train_set)"
   ]
  },
  {
   "cell_type": "code",
   "execution_count": 45,
   "metadata": {},
   "outputs": [
    {
     "data": {
      "text/plain": [
       "61"
      ]
     },
     "execution_count": 45,
     "metadata": {},
     "output_type": "execute_result"
    }
   ],
   "source": [
    "len(test_set)"
   ]
  },
  {
   "cell_type": "code",
   "execution_count": 46,
   "metadata": {},
   "outputs": [],
   "source": [
    "corr_matrix = train_set.corr()"
   ]
  },
  {
   "cell_type": "code",
   "execution_count": 47,
   "metadata": {},
   "outputs": [
    {
     "data": {
      "text/plain": [
       "target      1.000000\n",
       "cp          0.407768\n",
       "thalach     0.393415\n",
       "slope       0.341576\n",
       "restecg     0.084031\n",
       "fbs        -0.000924\n",
       "chol       -0.057714\n",
       "trestbps   -0.104257\n",
       "age        -0.233782\n",
       "sex        -0.304156\n",
       "thal       -0.338054\n",
       "ca         -0.375391\n",
       "exang      -0.443217\n",
       "oldpeak    -0.447305\n",
       "Name: target, dtype: float64"
      ]
     },
     "execution_count": 47,
     "metadata": {},
     "output_type": "execute_result"
    }
   ],
   "source": [
    "corr_matrix[\"target\"].sort_values(ascending=False)"
   ]
  },
  {
   "cell_type": "markdown",
   "metadata": {},
   "source": [
    "#### Correlation Matrix shows how the target value is related to other factors, meaning which factors affects to heart disease by what amoun or what percentage"
   ]
  },
  {
   "cell_type": "code",
   "execution_count": 48,
   "metadata": {},
   "outputs": [
    {
     "data": {
      "image/png": "[encoded data removed]",
      "text/plain": [
       "<Figure size 864x576 with 64 Axes>"
      ]
     },
     "metadata": {
      "needs_background": "light"
     },
     "output_type": "display_data"
    }
   ],
   "source": [
    "from pandas.plotting import scatter_matrix\n",
    "\n",
    "attributes = [\"cp\", \"thalach\", \"slope\", \"sex\", \"exang\", \"oldpeak\", \"ca\", \"age\"]\n",
    "scatter_matrix(train_set[attributes], figsize=(12, 8))\n",
    "plt.show()"
   ]
  },
  {
   "cell_type": "markdown",
   "metadata": {},
   "source": [
    "#### In order to work further, I have to split our data and compose and automatic transformer, so whenever I get a new data, I filter the new data with this transformer instead of sorting it all over again"
   ]
  },
  {
   "cell_type": "code",
   "execution_count": 49,
   "metadata": {},
   "outputs": [],
   "source": [
    "dataTrain = train_set.drop(\"target\", axis=1)\n",
    "dataLabels = train_set[\"target\"].copy()\n"
   ]
  },
  {
   "cell_type": "code",
   "execution_count": 50,
   "metadata": {},
   "outputs": [
    {
     "name": "stdout",
     "output_type": "stream",
     "text": [
      "<class 'pandas.core.frame.DataFrame'>\n",
      "Int64Index: 242 entries, 132 to 102\n",
      "Data columns (total 13 columns):\n",
      "age         242 non-null int64\n",
      "sex         242 non-null int64\n",
      "cp          242 non-null int64\n",
      "trestbps    242 non-null int64\n",
      "chol        242 non-null int64\n",
      "fbs         242 non-null int64\n",
      "restecg     242 non-null int64\n",
      "thalach     242 non-null int64\n",
      "exang       242 non-null int64\n",
      "oldpeak     242 non-null float64\n",
      "slope       242 non-null int64\n",
      "ca          242 non-null int64\n",
      "thal        242 non-null int64\n",
      "dtypes: float64(1), int64(12)\n",
      "memory usage: 26.5 KB\n"
     ]
    }
   ],
   "source": [
    "dataTrain.info()"
   ]
  },
  {
   "cell_type": "code",
   "execution_count": 51,
   "metadata": {},
   "outputs": [],
   "source": [
    "dataTrain_num = dataTrain.drop(\"sex\", axis=1)\n",
    "dataTrain_num = dataTrain_num.drop(\"cp\", axis=1)\n",
    "dataTrain_num = dataTrain_num.drop(\"fbs\", axis=1)\n",
    "dataTrain_num = dataTrain_num.drop(\"restecg\", axis=1)\n",
    "dataTrain_num = dataTrain_num.drop(\"exang\", axis=1)\n",
    "dataTrain_num = dataTrain_num.drop(\"slope\", axis=1)\n",
    "dataTrain_num = dataTrain_num.drop(\"thal\", axis=1)"
   ]
  },
  {
   "cell_type": "code",
   "execution_count": 52,
   "metadata": {},
   "outputs": [
    {
     "data": {
      "text/html": [
       "<div>\n",
       "<style scoped>\n",
       "    .dataframe tbody tr th:only-of-type {\n",
       "        vertical-align: middle;\n",
       "    }\n",
       "\n",
       "    .dataframe tbody tr th {\n",
       "        vertical-align: top;\n",
       "    }\n",
       "\n",
       "    .dataframe thead th {\n",
       "        text-align: right;\n",
       "    }\n",
       "</style>\n",
       "<table border=\"1\" class=\"dataframe\">\n",
       "  <thead>\n",
       "    <tr style=\"text-align: right;\">\n",
       "      <th></th>\n",
       "      <th>age</th>\n",
       "      <th>trestbps</th>\n",
       "      <th>chol</th>\n",
       "      <th>thalach</th>\n",
       "      <th>oldpeak</th>\n",
       "      <th>ca</th>\n",
       "    </tr>\n",
       "  </thead>\n",
       "  <tbody>\n",
       "    <tr>\n",
       "      <td>132</td>\n",
       "      <td>42</td>\n",
       "      <td>120</td>\n",
       "      <td>295</td>\n",
       "      <td>162</td>\n",
       "      <td>0.0</td>\n",
       "      <td>0</td>\n",
       "    </tr>\n",
       "    <tr>\n",
       "      <td>202</td>\n",
       "      <td>58</td>\n",
       "      <td>150</td>\n",
       "      <td>270</td>\n",
       "      <td>111</td>\n",
       "      <td>0.8</td>\n",
       "      <td>0</td>\n",
       "    </tr>\n",
       "    <tr>\n",
       "      <td>196</td>\n",
       "      <td>46</td>\n",
       "      <td>150</td>\n",
       "      <td>231</td>\n",
       "      <td>147</td>\n",
       "      <td>3.6</td>\n",
       "      <td>0</td>\n",
       "    </tr>\n",
       "    <tr>\n",
       "      <td>75</td>\n",
       "      <td>55</td>\n",
       "      <td>135</td>\n",
       "      <td>250</td>\n",
       "      <td>161</td>\n",
       "      <td>1.4</td>\n",
       "      <td>0</td>\n",
       "    </tr>\n",
       "    <tr>\n",
       "      <td>176</td>\n",
       "      <td>60</td>\n",
       "      <td>117</td>\n",
       "      <td>230</td>\n",
       "      <td>160</td>\n",
       "      <td>1.4</td>\n",
       "      <td>2</td>\n",
       "    </tr>\n",
       "  </tbody>\n",
       "</table>\n",
       "</div>"
      ],
      "text/plain": [
       "     age  trestbps  chol  thalach  oldpeak  ca\n",
       "132   42       120   295      162      0.0   0\n",
       "202   58       150   270      111      0.8   0\n",
       "196   46       150   231      147      3.6   0\n",
       "75    55       135   250      161      1.4   0\n",
       "176   60       117   230      160      1.4   2"
      ]
     },
     "execution_count": 52,
     "metadata": {},
     "output_type": "execute_result"
    }
   ],
   "source": [
    "dataTrain_num.head()"
   ]
  },
  {
   "cell_type": "code",
   "execution_count": 53,
   "metadata": {},
   "outputs": [
    {
     "data": {
      "text/plain": [
       "(242, 6)"
      ]
     },
     "execution_count": 53,
     "metadata": {},
     "output_type": "execute_result"
    }
   ],
   "source": [
    "dataTrain_num.shape"
   ]
  },
  {
   "cell_type": "code",
   "execution_count": 54,
   "metadata": {},
   "outputs": [],
   "source": [
    "from sklearn.pipeline import Pipeline\n",
    "from sklearn.preprocessing import StandardScaler\n",
    "from sklearn.impute import SimpleImputer\n",
    "from sklearn.preprocessing import OneHotEncoder\n",
    "\n",
    "num_pipeline = Pipeline([\n",
    "        ('imputer', SimpleImputer(strategy=\"median\")),\n",
    "        ('std_scaler', StandardScaler()),\n",
    "    ])"
   ]
  },
  {
   "cell_type": "code",
   "execution_count": 55,
   "metadata": {},
   "outputs": [
    {
     "data": {
      "text/plain": [
       "(242, 13)"
      ]
     },
     "execution_count": 55,
     "metadata": {},
     "output_type": "execute_result"
    }
   ],
   "source": [
    "dataTrain.shape"
   ]
  },
  {
   "cell_type": "code",
   "execution_count": 56,
   "metadata": {},
   "outputs": [
    {
     "name": "stderr",
     "output_type": "stream",
     "text": [
      "/Users/boburmurtozaev/opt/anaconda3/lib/python3.7/site-packages/sklearn/preprocessing/_encoders.py:415: FutureWarning: The handling of integer data will change in version 0.22. Currently, the categories are determined based on the range [0, max(values)], while in the future they will be determined based on the unique values.\n",
      "If you want the future behaviour and silence this warning, you can specify \"categories='auto'\".\n",
      "In case you used a LabelEncoder before this OneHotEncoder to convert the categories to integers, then you can now use the OneHotEncoder directly.\n",
      "  warnings.warn(msg, FutureWarning)\n"
     ]
    }
   ],
   "source": [
    "from sklearn.compose import ColumnTransformer\n",
    "\n",
    "num_attribs = list(dataTrain_num)\n",
    "cat_attribs = [\"sex\", \"cp\", \"fbs\", \"restecg\", \"exang\", \"slope\", \"thal\"]\n",
    "\n",
    "\n",
    "full_pipeline = ColumnTransformer([\n",
    "        (\"num\", num_pipeline, num_attribs),\n",
    "        (\"cat\", OneHotEncoder(), cat_attribs),\n",
    "    ])\n",
    "\n",
    "train_prepared = full_pipeline.fit_transform(dataTrain)"
   ]
  },
  {
   "cell_type": "code",
   "execution_count": 57,
   "metadata": {},
   "outputs": [
    {
     "data": {
      "text/plain": [
       "(242, 26)"
      ]
     },
     "execution_count": 57,
     "metadata": {},
     "output_type": "execute_result"
    }
   ],
   "source": [
    "train_prepared.shape"
   ]
  },
  {
   "cell_type": "markdown",
   "metadata": {},
   "source": [
    "### Now let's compare and contrast 3 different models which seem applicable to the given data in order to predict our information. At the end I will pick the best model to work with the given data\n",
    "\n",
    "### 1-Model: DecisionTree Classifier¶\n"
   ]
  },
  {
   "cell_type": "code",
   "execution_count": 58,
   "metadata": {},
   "outputs": [
    {
     "data": {
      "text/plain": [
       "DecisionTreeClassifier(class_weight=None, criterion='gini', max_depth=None,\n",
       "                       max_features=None, max_leaf_nodes=None,\n",
       "                       min_impurity_decrease=0.0, min_impurity_split=None,\n",
       "                       min_samples_leaf=1, min_samples_split=2,\n",
       "                       min_weight_fraction_leaf=0.0, presort=False,\n",
       "                       random_state=None, splitter='best')"
      ]
     },
     "execution_count": 58,
     "metadata": {},
     "output_type": "execute_result"
    }
   ],
   "source": [
    "from sklearn.tree import DecisionTreeClassifier\n",
    "\n",
    "tree_clf = DecisionTreeClassifier()\n",
    "tree_clf.fit(train_prepared, dataLabels)"
   ]
  },
  {
   "cell_type": "markdown",
   "metadata": {},
   "source": [
    "### Testing and Validation:"
   ]
  },
  {
   "cell_type": "code",
   "execution_count": 59,
   "metadata": {},
   "outputs": [
    {
     "name": "stdout",
     "output_type": "stream",
     "text": [
      "Predictions: [1 0 0 1 0]\n",
      "Labels: [1, 0, 0, 1, 0]\n"
     ]
    }
   ],
   "source": [
    "some_dat = dataTrain.iloc[:5]\n",
    "some_labs = dataLabels.iloc[:5]\n",
    "some_dat_prepared = full_pipeline.transform(some_dat)\n",
    "print(\"Predictions:\", tree_clf.predict(some_dat_prepared))\n",
    "print(\"Labels:\", list(some_labs))"
   ]
  },
  {
   "cell_type": "markdown",
   "metadata": {},
   "source": [
    "### Cross Validation Score:"
   ]
  },
  {
   "cell_type": "code",
   "execution_count": 60,
   "metadata": {},
   "outputs": [],
   "source": [
    "from sklearn.model_selection import cross_val_score\n",
    "cvsscores = cross_val_score(tree_clf, train_prepared, dataLabels,\n",
    "                         scoring=\"accuracy\", cv=10)"
   ]
  },
  {
   "cell_type": "code",
   "execution_count": 61,
   "metadata": {},
   "outputs": [
    {
     "name": "stdout",
     "output_type": "stream",
     "text": [
      "Scores: [0.76       0.76       0.68       0.66666667 0.79166667 0.70833333\n",
      " 0.70833333 0.79166667 0.75       0.7826087 ]\n",
      "Mean: 0.7399275362318841\n",
      "Standard deviation: 0.04363217924585581\n"
     ]
    }
   ],
   "source": [
    ">>> def display_scores(scores):\n",
    "...     print(\"Scores:\", scores)\n",
    "...     print(\"Mean:\", scores.mean())\n",
    "...     print(\"Standard deviation:\", scores.std())\n",
    "...\n",
    ">>> display_scores(cvsscores)"
   ]
  },
  {
   "cell_type": "markdown",
   "metadata": {},
   "source": [
    "### Confusion Matrix:¶"
   ]
  },
  {
   "cell_type": "code",
   "execution_count": 62,
   "metadata": {},
   "outputs": [],
   "source": [
    "from sklearn.model_selection import cross_val_predict\n",
    "\n",
    "train_predo = cross_val_predict(tree_clf, train_prepared, dataLabels, cv=10)"
   ]
  },
  {
   "cell_type": "code",
   "execution_count": 63,
   "metadata": {},
   "outputs": [
    {
     "data": {
      "text/plain": [
       "array([[79, 30],\n",
       "       [38, 95]])"
      ]
     },
     "execution_count": 63,
     "metadata": {},
     "output_type": "execute_result"
    }
   ],
   "source": [
    ">>> from sklearn.metrics import confusion_matrix\n",
    ">>> confusion_matrix(dataLabels, train_predo)"
   ]
  },
  {
   "cell_type": "markdown",
   "metadata": {},
   "source": [
    "### Precision and Recall:"
   ]
  },
  {
   "cell_type": "code",
   "execution_count": 64,
   "metadata": {},
   "outputs": [
    {
     "data": {
      "text/plain": [
       "0.76"
      ]
     },
     "execution_count": 64,
     "metadata": {},
     "output_type": "execute_result"
    }
   ],
   "source": [
    ">>> from sklearn.metrics import precision_score, recall_score\n",
    ">>> precision_score(dataLabels, train_predo)"
   ]
  },
  {
   "cell_type": "code",
   "execution_count": 65,
   "metadata": {},
   "outputs": [
    {
     "data": {
      "text/plain": [
       "0.7142857142857143"
      ]
     },
     "execution_count": 65,
     "metadata": {},
     "output_type": "execute_result"
    }
   ],
   "source": [
    ">>> recall_score(dataLabels, train_predo)"
   ]
  },
  {
   "cell_type": "markdown",
   "metadata": {},
   "source": [
    "### F-score:"
   ]
  },
  {
   "cell_type": "code",
   "execution_count": 66,
   "metadata": {},
   "outputs": [
    {
     "data": {
      "text/plain": [
       "0.7364341085271319"
      ]
     },
     "execution_count": 66,
     "metadata": {},
     "output_type": "execute_result"
    }
   ],
   "source": [
    ">>> from sklearn.metrics import f1_score\n",
    ">>> f1_score(dataLabels, train_predo)"
   ]
  },
  {
   "cell_type": "markdown",
   "metadata": {},
   "source": [
    "### ROC Curve:"
   ]
  },
  {
   "cell_type": "code",
   "execution_count": 67,
   "metadata": {},
   "outputs": [],
   "source": [
    "y_scores = cross_val_predict(tree_clf, train_prepared, dataLabels, cv=3)\n",
    "\n",
    "from sklearn.metrics import roc_curve\n",
    "\n",
    "fpr, tpr, thresholds = roc_curve(dataLabels, y_scores)"
   ]
  },
  {
   "cell_type": "code",
   "execution_count": 68,
   "metadata": {},
   "outputs": [
    {
     "data": {
      "image/png": "[encoded data removed]",
      "text/plain": [
       "<Figure size 576x432 with 1 Axes>"
      ]
     },
     "metadata": {
      "needs_background": "light"
     },
     "output_type": "display_data"
    }
   ],
   "source": [
    "def plot_roc_curve(fpr, tpr, label=None):\n",
    "    plt.plot(fpr, tpr, linewidth=2, label=label)\n",
    "    plt.plot([0, 1], [0, 1], 'k--') \n",
    "    plt.axis([0, 1, 0, 1])                                   \n",
    "    plt.xlabel('False Positive Rate (Fall-Out)', fontsize=16) \n",
    "    plt.ylabel('True Positive Rate (Recall)', fontsize=16)    \n",
    "    plt.grid(True)                                            \n",
    "\n",
    "plt.figure(figsize=(8, 6))                         \n",
    "plot_roc_curve(fpr, tpr)\n",
    "plt.plot([4.837e-3, 4.837e-3], [0., 0.4368], \"r:\") \n",
    "plt.plot([0.0, 4.837e-3], [0.4368, 0.4368], \"r:\")  \n",
    "plt.plot([4.837e-3], [0.4368], \"ro\")               \n",
    "                      \n",
    "plt.show()"
   ]
  },
  {
   "cell_type": "code",
   "execution_count": 69,
   "metadata": {},
   "outputs": [
    {
     "data": {
      "text/plain": [
       "0.7065944678209284"
      ]
     },
     "execution_count": 69,
     "metadata": {},
     "output_type": "execute_result"
    }
   ],
   "source": [
    "from sklearn.metrics import roc_auc_score\n",
    "\n",
    "roc_auc_score(dataLabels, y_scores)"
   ]
  },
  {
   "cell_type": "markdown",
   "metadata": {},
   "source": [
    "## 2-Model: RandomForestClassifier:"
   ]
  },
  {
   "cell_type": "code",
   "execution_count": 70,
   "metadata": {},
   "outputs": [
    {
     "data": {
      "text/plain": [
       "RandomForestClassifier(bootstrap=True, class_weight=None, criterion='gini',\n",
       "                       max_depth=None, max_features='auto', max_leaf_nodes=None,\n",
       "                       min_impurity_decrease=0.0, min_impurity_split=None,\n",
       "                       min_samples_leaf=1, min_samples_split=2,\n",
       "                       min_weight_fraction_leaf=0.0, n_estimators=100,\n",
       "                       n_jobs=None, oob_score=False, random_state=42, verbose=0,\n",
       "                       warm_start=False)"
      ]
     },
     "execution_count": 70,
     "metadata": {},
     "output_type": "execute_result"
    }
   ],
   "source": [
    "from sklearn.ensemble import RandomForestClassifier\n",
    "\n",
    "forest_clf = RandomForestClassifier(n_estimators=100, random_state=42)\n",
    "forest_clf.fit(train_prepared, dataLabels)"
   ]
  },
  {
   "cell_type": "markdown",
   "metadata": {},
   "source": [
    "### Test and Validation: "
   ]
  },
  {
   "cell_type": "code",
   "execution_count": 71,
   "metadata": {},
   "outputs": [
    {
     "name": "stdout",
     "output_type": "stream",
     "text": [
      "Predictions: [1 0 0 1 0]\n",
      "Labels: [1, 0, 0, 1, 0]\n"
     ]
    }
   ],
   "source": [
    "some_datq = dataTrain.iloc[:5]\n",
    "some_labsq = dataLabels.iloc[:5]\n",
    "some_dat_preparedq = full_pipeline.transform(some_datq)\n",
    "print(\"Predictions:\", forest_clf.predict(some_dat_preparedq))\n",
    "\n",
    "print(\"Labels:\", list(some_labsq))"
   ]
  },
  {
   "cell_type": "markdown",
   "metadata": {},
   "source": [
    "### Cross Validation Score: "
   ]
  },
  {
   "cell_type": "code",
   "execution_count": 72,
   "metadata": {},
   "outputs": [
    {
     "name": "stdout",
     "output_type": "stream",
     "text": [
      "Scores: [0.76       0.88       0.88       0.79166667 0.875      0.70833333\n",
      " 0.75       0.875      0.75       0.82608696]\n",
      "Mean: 0.8096086956521737\n",
      "Standard deviation: 0.06235341305929312\n"
     ]
    }
   ],
   "source": [
    "from sklearn.model_selection import cross_val_score\n",
    "\n",
    "forest_scores = cross_val_score(forest_clf, train_prepared, dataLabels,\n",
    "                                scoring=\"accuracy\", cv=10)\n",
    "\n",
    "display_scores(forest_scores)"
   ]
  },
  {
   "cell_type": "markdown",
   "metadata": {},
   "source": [
    "### Confusion Matrix: "
   ]
  },
  {
   "cell_type": "code",
   "execution_count": 73,
   "metadata": {},
   "outputs": [],
   "source": [
    "train_predo1 = cross_val_predict(forest_clf, train_prepared, dataLabels, cv=10)"
   ]
  },
  {
   "cell_type": "code",
   "execution_count": 74,
   "metadata": {},
   "outputs": [
    {
     "data": {
      "text/plain": [
       "array([[ 86,  23],\n",
       "       [ 23, 110]])"
      ]
     },
     "execution_count": 74,
     "metadata": {},
     "output_type": "execute_result"
    }
   ],
   "source": [
    ">>> from sklearn.metrics import confusion_matrix\n",
    ">>> confusion_matrix(dataLabels, train_predo1)"
   ]
  },
  {
   "cell_type": "markdown",
   "metadata": {},
   "source": [
    "### Precision and Recall: "
   ]
  },
  {
   "cell_type": "code",
   "execution_count": 75,
   "metadata": {},
   "outputs": [
    {
     "data": {
      "text/plain": [
       "0.8270676691729323"
      ]
     },
     "execution_count": 75,
     "metadata": {},
     "output_type": "execute_result"
    }
   ],
   "source": [
    ">>> from sklearn.metrics import precision_score, recall_score\n",
    ">>> precision_score(dataLabels, train_predo1)"
   ]
  },
  {
   "cell_type": "markdown",
   "metadata": {},
   "source": [
    "### ROC Curve:"
   ]
  },
  {
   "cell_type": "code",
   "execution_count": 76,
   "metadata": {},
   "outputs": [],
   "source": [
    "y_scores1 = cross_val_predict(forest_clf, train_prepared, dataLabels, cv=3)\n",
    "\n",
    "fpr1, tpr1, thresholds1 = roc_curve(dataLabels, y_scores1)"
   ]
  },
  {
   "cell_type": "code",
   "execution_count": 77,
   "metadata": {},
   "outputs": [
    {
     "data": {
      "image/png": "[encoded data removed]",
      "text/plain": [
       "<Figure size 576x432 with 1 Axes>"
      ]
     },
     "metadata": {
      "needs_background": "light"
     },
     "output_type": "display_data"
    }
   ],
   "source": [
    "plt.figure(figsize=(8, 6))                         \n",
    "plot_roc_curve(fpr1, tpr1)\n",
    "plt.plot([4.837e-3, 4.837e-3], [0., 0.4368], \"r:\") \n",
    "plt.plot([0.0, 4.837e-3], [0.4368, 0.4368], \"r:\")  \n",
    "plt.plot([4.837e-3], [0.4368], \"ro\")               \n",
    "                      \n",
    "plt.show()"
   ]
  },
  {
   "cell_type": "code",
   "execution_count": 78,
   "metadata": {},
   "outputs": [
    {
     "data": {
      "text/plain": [
       "0.8117886459267434"
      ]
     },
     "execution_count": 78,
     "metadata": {},
     "output_type": "execute_result"
    }
   ],
   "source": [
    "roc_auc_score(dataLabels, y_scores1)"
   ]
  },
  {
   "cell_type": "markdown",
   "metadata": {},
   "source": [
    "## 3-Model: KNeighbors Classifier:"
   ]
  },
  {
   "cell_type": "code",
   "execution_count": 79,
   "metadata": {},
   "outputs": [
    {
     "data": {
      "text/plain": [
       "KNeighborsClassifier(algorithm='auto', leaf_size=30, metric='minkowski',\n",
       "                     metric_params=None, n_jobs=None, n_neighbors=5, p=2,\n",
       "                     weights='uniform')"
      ]
     },
     "execution_count": 79,
     "metadata": {},
     "output_type": "execute_result"
    }
   ],
   "source": [
    "from sklearn.neighbors import KNeighborsClassifier\n",
    "\n",
    "neigh = KNeighborsClassifier(n_neighbors=5)\n",
    "\n",
    "neigh.fit(train_prepared, dataLabels)"
   ]
  },
  {
   "cell_type": "markdown",
   "metadata": {},
   "source": [
    "### Test and Validation:"
   ]
  },
  {
   "cell_type": "code",
   "execution_count": 80,
   "metadata": {},
   "outputs": [
    {
     "name": "stdout",
     "output_type": "stream",
     "text": [
      "Predictions: [1 0 1 1 0 1 1 1 1 1]\n",
      "Labels: [1, 0, 0, 1, 0, 1, 1, 1, 0, 1]\n"
     ]
    }
   ],
   "source": [
    "some_dat6 = dataTrain.iloc[:10]\n",
    "some_labs6 = dataLabels.iloc[:10]\n",
    "some_dat_prepared6 = full_pipeline.transform(some_dat6)\n",
    "print(\"Predictions:\", neigh.predict(some_dat_prepared6))\n",
    "\n",
    "print(\"Labels:\", list(some_labs6))\n"
   ]
  },
  {
   "cell_type": "markdown",
   "metadata": {},
   "source": [
    "### Cross Validation Score:"
   ]
  },
  {
   "cell_type": "code",
   "execution_count": 81,
   "metadata": {},
   "outputs": [
    {
     "name": "stdout",
     "output_type": "stream",
     "text": [
      "Scores: [0.68       0.8        0.84       0.83333333 0.83333333 0.79166667\n",
      " 0.70833333 0.91666667 0.75       0.86956522]\n",
      "Mean: 0.8022898550724638\n",
      "Standard deviation: 0.06898727466984479\n"
     ]
    }
   ],
   "source": [
    "KN_scores = cross_val_score(neigh, train_prepared, dataLabels,\n",
    "                                scoring=\"accuracy\", cv=10)\n",
    "\n",
    "display_scores(KN_scores)"
   ]
  },
  {
   "cell_type": "markdown",
   "metadata": {},
   "source": [
    "### Confusion Matrix: "
   ]
  },
  {
   "cell_type": "code",
   "execution_count": 82,
   "metadata": {},
   "outputs": [],
   "source": [
    "train_predo2 = cross_val_predict(neigh, train_prepared, dataLabels, cv=10)"
   ]
  },
  {
   "cell_type": "code",
   "execution_count": 83,
   "metadata": {},
   "outputs": [
    {
     "data": {
      "text/plain": [
       "array([[ 82,  27],\n",
       "       [ 21, 112]])"
      ]
     },
     "execution_count": 83,
     "metadata": {},
     "output_type": "execute_result"
    }
   ],
   "source": [
    ">>> from sklearn.metrics import confusion_matrix\n",
    ">>> confusion_matrix(dataLabels, train_predo2)"
   ]
  },
  {
   "cell_type": "markdown",
   "metadata": {},
   "source": [
    "### Precision Score: "
   ]
  },
  {
   "cell_type": "code",
   "execution_count": 84,
   "metadata": {},
   "outputs": [
    {
     "data": {
      "text/plain": [
       "0.8057553956834532"
      ]
     },
     "execution_count": 84,
     "metadata": {},
     "output_type": "execute_result"
    }
   ],
   "source": [
    ">>> from sklearn.metrics import precision_score, recall_score\n",
    ">>> precision_score(dataLabels, train_predo2)"
   ]
  },
  {
   "cell_type": "markdown",
   "metadata": {},
   "source": [
    "## Here I stop, because if you compare the above 3 models, among them, the best model is Random Forest Classifier with over 80% precision and I don't think I can get any better result from other models. However I may get much improved results if I apply Neural Networks, unfortunately, I yet have to practice how to work with Neural Networks. I hope that I will have the time and opportunity to use Neural Networks. As for this results, we can use Random Forest Classifier (note: not a regressor) to predict how highly a person can get a heart disease. But before we apply RFC to our test data, let's tune our model with more better parameters"
   ]
  },
  {
   "cell_type": "markdown",
   "metadata": {},
   "source": [
    "## Fine_Tuning the Model:"
   ]
  },
  {
   "cell_type": "code",
   "execution_count": 85,
   "metadata": {},
   "outputs": [
    {
     "name": "stderr",
     "output_type": "stream",
     "text": [
      "/Users/boburmurtozaev/opt/anaconda3/lib/python3.7/site-packages/sklearn/model_selection/_search.py:814: DeprecationWarning: The default of the `iid` parameter will change from True to False in version 0.22 and will be removed in 0.24. This will change numeric results when test-set sizes are unequal.\n",
      "  DeprecationWarning)\n"
     ]
    },
    {
     "data": {
      "text/plain": [
       "GridSearchCV(cv=5, error_score='raise-deprecating',\n",
       "             estimator=RandomForestClassifier(bootstrap=True, class_weight=None,\n",
       "                                              criterion='gini', max_depth=None,\n",
       "                                              max_features='auto',\n",
       "                                              max_leaf_nodes=None,\n",
       "                                              min_impurity_decrease=0.0,\n",
       "                                              min_impurity_split=None,\n",
       "                                              min_samples_leaf=1,\n",
       "                                              min_samples_split=2,\n",
       "                                              min_weight_fraction_leaf=0.0,\n",
       "                                              n_estimators='warn', n_jobs=None,\n",
       "                                              oob_score=Fa...\n",
       "                          'min_samples_leaf': [1, 5, 8],\n",
       "                          'min_samples_split': [2, 3, 5],\n",
       "                          'n_estimators': [4, 6, 9]},\n",
       "                         {'bootstrap': [False],\n",
       "                          'criterion': ['entropy', 'gini'],\n",
       "                          'max_depth': [2, 3, 5, 10],\n",
       "                          'max_features': ['log2', 'sqrt', 'auto'],\n",
       "                          'min_samples_leaf': [1, 5, 8],\n",
       "                          'min_samples_split': [2, 3, 5],\n",
       "                          'n_estimators': [4, 6, 9]}],\n",
       "             pre_dispatch='2*n_jobs', refit=True, return_train_score=True,\n",
       "             scoring='accuracy', verbose=0)"
      ]
     },
     "execution_count": 85,
     "metadata": {},
     "output_type": "execute_result"
    }
   ],
   "source": [
    "from sklearn.model_selection import GridSearchCV\n",
    "\n",
    "param_grid = [\n",
    "    {'n_estimators': [4, 6, 9], \n",
    "              'max_features': ['log2', 'sqrt','auto'], \n",
    "              'criterion': ['entropy', 'gini'],\n",
    "              'max_depth': [2, 3, 5, 10], \n",
    "              'min_samples_split': [2, 3, 5],\n",
    "              'min_samples_leaf': [1,5,8]},\n",
    "    {'bootstrap': [False],'n_estimators': [4, 6, 9], \n",
    "              'max_features': ['log2', 'sqrt','auto'], \n",
    "              'criterion': ['entropy', 'gini'],\n",
    "              'max_depth': [2, 3, 5, 10], \n",
    "              'min_samples_split': [2, 3, 5],\n",
    "              'min_samples_leaf': [1,5,8]},\n",
    "  ]\n",
    "\n",
    "forest_clf = RandomForestClassifier()\n",
    "\n",
    "grid_search = GridSearchCV(forest_clf, param_grid, cv=5,\n",
    "                           scoring='accuracy',\n",
    "                           return_train_score=True)\n",
    "\n",
    "grid_search.fit(train_prepared, dataLabels)"
   ]
  },
  {
   "cell_type": "code",
   "execution_count": 86,
   "metadata": {},
   "outputs": [
    {
     "data": {
      "text/plain": [
       "{'bootstrap': False,\n",
       " 'criterion': 'gini',\n",
       " 'max_depth': 5,\n",
       " 'max_features': 'sqrt',\n",
       " 'min_samples_leaf': 5,\n",
       " 'min_samples_split': 2,\n",
       " 'n_estimators': 4}"
      ]
     },
     "execution_count": 86,
     "metadata": {},
     "output_type": "execute_result"
    }
   ],
   "source": [
    ">>> grid_search.best_params_"
   ]
  },
  {
   "cell_type": "code",
   "execution_count": 87,
   "metadata": {},
   "outputs": [
    {
     "data": {
      "text/plain": [
       "RandomForestClassifier(bootstrap=False, class_weight=None, criterion='gini',\n",
       "                       max_depth=5, max_features='sqrt', max_leaf_nodes=None,\n",
       "                       min_impurity_decrease=0.0, min_impurity_split=None,\n",
       "                       min_samples_leaf=5, min_samples_split=2,\n",
       "                       min_weight_fraction_leaf=0.0, n_estimators=4,\n",
       "                       n_jobs=None, oob_score=False, random_state=None,\n",
       "                       verbose=0, warm_start=False)"
      ]
     },
     "execution_count": 87,
     "metadata": {},
     "output_type": "execute_result"
    }
   ],
   "source": [
    ">>> grid_search.best_estimator_"
   ]
  },
  {
   "cell_type": "code",
   "execution_count": 88,
   "metadata": {},
   "outputs": [],
   "source": [
    ">>> cvres = grid_search.cv_results_"
   ]
  },
  {
   "cell_type": "code",
   "execution_count": 89,
   "metadata": {},
   "outputs": [
    {
     "data": {
      "text/plain": [
       "array([5.22223519e-02, 4.42641984e-02, 8.57082334e-03, 2.51872562e-02,\n",
       "       1.51742123e-01, 1.14704864e-01, 4.00669502e-03, 3.58721671e-03,\n",
       "       8.36204864e-02, 4.90415297e-05, 2.41186445e-03, 3.40909659e-04,\n",
       "       5.24915907e-05, 0.00000000e+00, 1.30650897e-04, 1.07540402e-02,\n",
       "       0.00000000e+00, 7.67968266e-02, 5.56461458e-02, 0.00000000e+00,\n",
       "       5.48338063e-03, 1.36711131e-01, 0.00000000e+00, 0.00000000e+00,\n",
       "       1.55432914e-01, 6.82845891e-02])"
      ]
     },
     "execution_count": 89,
     "metadata": {},
     "output_type": "execute_result"
    }
   ],
   "source": [
    ">>> feature_importances = grid_search.best_estimator_.feature_importances_\n",
    ">>> feature_importances"
   ]
  },
  {
   "cell_type": "code",
   "execution_count": 90,
   "metadata": {},
   "outputs": [
    {
     "data": {
      "text/plain": [
       "[(0.15174212254409167, 'oldpeak'),\n",
       " (0.11470486416845276, 'ca'),\n",
       " (0.052222351894044464, 'age'),\n",
       " (0.044264198360495305, 'trestbps'),\n",
       " (0.025187256214403927, 'thalach'),\n",
       " (0.008570823337715895, 'chol'),\n",
       " (0.004006695017687863, 0.0),\n",
       " (0.003587216705811865, 1.0)]"
      ]
     },
     "execution_count": 90,
     "metadata": {},
     "output_type": "execute_result"
    }
   ],
   "source": [
    ">>> cat_encoder = full_pipeline.named_transformers_[\"cat\"]\n",
    ">>> cat_ordinal_attribs = list(cat_encoder.categories_[0])\n",
    ">>> attributes = num_attribs + cat_ordinal_attribs\n",
    ">>> sorted(zip(feature_importances, attributes), reverse=True)"
   ]
  },
  {
   "cell_type": "code",
   "execution_count": 91,
   "metadata": {},
   "outputs": [],
   "source": [
    "final_model = grid_search.best_estimator_"
   ]
  },
  {
   "cell_type": "code",
   "execution_count": 92,
   "metadata": {},
   "outputs": [
    {
     "data": {
      "text/plain": [
       "RandomForestClassifier(bootstrap=False, class_weight=None, criterion='gini',\n",
       "                       max_depth=5, max_features='sqrt', max_leaf_nodes=None,\n",
       "                       min_impurity_decrease=0.0, min_impurity_split=None,\n",
       "                       min_samples_leaf=5, min_samples_split=2,\n",
       "                       min_weight_fraction_leaf=0.0, n_estimators=4,\n",
       "                       n_jobs=None, oob_score=False, random_state=None,\n",
       "                       verbose=0, warm_start=False)"
      ]
     },
     "execution_count": 92,
     "metadata": {},
     "output_type": "execute_result"
    }
   ],
   "source": [
    "from sklearn.metrics import make_scorer, accuracy_score\n",
    "\n",
    "data_train2 = load_data()\n",
    "\n",
    "X_all = data_train2.drop(['target'], axis=1)\n",
    "y_all = data_train2['target']\n",
    "\n",
    "X_all_transformed = full_pipeline.transform(X_all)\n",
    "\n",
    "num_test = 0.20\n",
    "\n",
    "X_train, X_test, y_train, y_test = train_test_split(X_all_transformed, y_all, test_size=num_test, random_state=23)\n",
    "\n",
    "final_model.fit(X_train, y_train)"
   ]
  },
  {
   "cell_type": "code",
   "execution_count": 93,
   "metadata": {},
   "outputs": [
    {
     "name": "stdout",
     "output_type": "stream",
     "text": [
      "0.8032786885245902\n"
     ]
    }
   ],
   "source": [
    "predictions = final_model.predict(X_test)\n",
    "print(accuracy_score(y_test, predictions))"
   ]
  },
  {
   "cell_type": "markdown",
   "metadata": {},
   "source": [
    "### As you can see above model reached 80% precision compared to the previous 80% of RandomForestClassifier and compared to 70% of DecisionTree Classifier with much more fine-tuned parameters"
   ]
  },
  {
   "cell_type": "code",
   "execution_count": null,
   "metadata": {},
   "outputs": [],
   "source": []
  }
 ],
 "metadata": {
  "kernelspec": {
   "display_name": "Python 3",
   "language": "python",
   "name": "python3"
  },
  "language_info": {
   "codemirror_mode": {
    "name": "ipython",
    "version": 3
   },
   "file_extension": ".py",
   "mimetype": "text/x-python",
   "name": "python",
   "nbconvert_exporter": "python",
   "pygments_lexer": "ipython3",
   "version": "3.7.4"
  }
 },
 "nbformat": 4,
 "nbformat_minor": 2
}
